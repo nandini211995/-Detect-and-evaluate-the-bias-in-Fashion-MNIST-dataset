{
  "nbformat": 4,
  "nbformat_minor": 0,
  "metadata": {
    "colab": {
      "name": "DAI_Assignment1_Q2.ipynb",
      "provenance": []
    },
    "kernelspec": {
      "name": "python3",
      "display_name": "Python 3"
    }
  },
  "cells": [
    {
      "cell_type": "code",
      "metadata": {
        "id": "3wBiFBTFfK4U"
      },
      "source": [
        "import sys\n",
        "import time\n",
        "import numpy as np\n",
        "import pandas as pd\n",
        "import pickle\n",
        "from sklearn import model_selection, svm, preprocessing\n",
        "from sklearn.metrics import accuracy_score,confusion_matrix\n",
        "from sklearn.metrics import auc\n",
        "from keras.models import Sequential\n",
        "from keras.layers import Dense\n",
        "from keras.callbacks import EarlyStopping\n",
        "import tensorflow as tf\n",
        "from tensorflow import keras\n",
        "import matplotlib.pyplot as plt\n",
        "from matplotlib import style\n",
        "import collections\n",
        "from sklearn.metrics import plot_confusion_matrix\n",
        "from sklearn.metrics import ConfusionMatrixDisplay"
      ],
      "execution_count": null,
      "outputs": []
    },
    {
      "cell_type": "markdown",
      "metadata": {
        "id": "04nswwmef7IQ"
      },
      "source": [
        "**Dataset** : Fashion MNIST\n",
        "\n",
        "> \n",
        "\n",
        "2 : Pullover--->0 , 4 : Coat---->1"
      ]
    },
    {
      "cell_type": "code",
      "metadata": {
        "id": "MjLIDSV1f5PY"
      },
      "source": [
        "from keras.datasets import fashion_mnist"
      ],
      "execution_count": null,
      "outputs": []
    },
    {
      "cell_type": "code",
      "metadata": {
        "id": "tpWaWu9_f5Sp",
        "colab": {
          "base_uri": "https://localhost:8080/"
        },
        "outputId": "6e06ec9f-4f84-41f4-99ed-862169ff4c99"
      },
      "source": [
        "(train_img, train_label), (test_img, test_label) = fashion_mnist.load_data()"
      ],
      "execution_count": null,
      "outputs": [
        {
          "output_type": "stream",
          "text": [
            "Downloading data from https://storage.googleapis.com/tensorflow/tf-keras-datasets/train-labels-idx1-ubyte.gz\n",
            "32768/29515 [=================================] - 0s 0us/step\n",
            "Downloading data from https://storage.googleapis.com/tensorflow/tf-keras-datasets/train-images-idx3-ubyte.gz\n",
            "26427392/26421880 [==============================] - 0s 0us/step\n",
            "Downloading data from https://storage.googleapis.com/tensorflow/tf-keras-datasets/t10k-labels-idx1-ubyte.gz\n",
            "8192/5148 [===============================================] - 0s 0us/step\n",
            "Downloading data from https://storage.googleapis.com/tensorflow/tf-keras-datasets/t10k-images-idx3-ubyte.gz\n",
            "4423680/4422102 [==============================] - 0s 0us/step\n"
          ],
          "name": "stdout"
        }
      ]
    },
    {
      "cell_type": "code",
      "metadata": {
        "colab": {
          "base_uri": "https://localhost:8080/"
        },
        "id": "hnwVH2rtlfOH",
        "outputId": "74ff0d16-82ae-468a-cbe1-a41e9a92fc57"
      },
      "source": [
        "train_img.shape"
      ],
      "execution_count": null,
      "outputs": [
        {
          "output_type": "execute_result",
          "data": {
            "text/plain": [
              "(60000, 28, 28)"
            ]
          },
          "metadata": {
            "tags": []
          },
          "execution_count": 4
        }
      ]
    },
    {
      "cell_type": "code",
      "metadata": {
        "id": "3vmQ1fAdl4Dy"
      },
      "source": [
        "train_imgr = train_img.reshape(train_img.shape[0], train_img.shape[1] * train_img.shape[2])\n",
        "\n",
        "test_imgr = test_img.reshape(test_img.shape[0], test_img.shape[1] * test_img.shape[2])\n"
      ],
      "execution_count": null,
      "outputs": []
    },
    {
      "cell_type": "code",
      "metadata": {
        "colab": {
          "base_uri": "https://localhost:8080/"
        },
        "id": "MMqvyNULrg3h",
        "outputId": "da8a8e7b-7467-457c-a617-9c544eeeae3d"
      },
      "source": [
        "train_imgr.shape"
      ],
      "execution_count": null,
      "outputs": [
        {
          "output_type": "execute_result",
          "data": {
            "text/plain": [
              "(60000, 784)"
            ]
          },
          "metadata": {
            "tags": []
          },
          "execution_count": 6
        }
      ]
    },
    {
      "cell_type": "code",
      "metadata": {
        "id": "M-twEWuYkr36"
      },
      "source": [
        "fmnist_train_df = pd.DataFrame({\"labels\":list(train_label),\"images\":list(train_imgr)})\n",
        "fmnist_test_df = pd.DataFrame({\"labels\":list(test_label),\"images\":list(test_imgr)})"
      ],
      "execution_count": null,
      "outputs": []
    },
    {
      "cell_type": "code",
      "metadata": {
        "colab": {
          "base_uri": "https://localhost:8080/",
          "height": 402
        },
        "id": "DMm_ey_rOkKL",
        "outputId": "3568b78f-710a-4ae9-ae31-5f40855dbcf4"
      },
      "source": [
        "fmnist_train_df"
      ],
      "execution_count": null,
      "outputs": [
        {
          "output_type": "execute_result",
          "data": {
            "text/html": [
              "<div>\n",
              "<style scoped>\n",
              "    .dataframe tbody tr th:only-of-type {\n",
              "        vertical-align: middle;\n",
              "    }\n",
              "\n",
              "    .dataframe tbody tr th {\n",
              "        vertical-align: top;\n",
              "    }\n",
              "\n",
              "    .dataframe thead th {\n",
              "        text-align: right;\n",
              "    }\n",
              "</style>\n",
              "<table border=\"1\" class=\"dataframe\">\n",
              "  <thead>\n",
              "    <tr style=\"text-align: right;\">\n",
              "      <th></th>\n",
              "      <th>labels</th>\n",
              "      <th>images</th>\n",
              "    </tr>\n",
              "  </thead>\n",
              "  <tbody>\n",
              "    <tr>\n",
              "      <th>0</th>\n",
              "      <td>9</td>\n",
              "      <td>[0, 0, 0, 0, 0, 0, 0, 0, 0, 0, 0, 0, 0, 0, 0, ...</td>\n",
              "    </tr>\n",
              "    <tr>\n",
              "      <th>1</th>\n",
              "      <td>0</td>\n",
              "      <td>[0, 0, 0, 0, 0, 1, 0, 0, 0, 0, 41, 188, 103, 5...</td>\n",
              "    </tr>\n",
              "    <tr>\n",
              "      <th>2</th>\n",
              "      <td>0</td>\n",
              "      <td>[0, 0, 0, 0, 0, 0, 0, 0, 0, 22, 118, 24, 0, 0,...</td>\n",
              "    </tr>\n",
              "    <tr>\n",
              "      <th>3</th>\n",
              "      <td>3</td>\n",
              "      <td>[0, 0, 0, 0, 0, 0, 0, 0, 33, 96, 175, 156, 64,...</td>\n",
              "    </tr>\n",
              "    <tr>\n",
              "      <th>4</th>\n",
              "      <td>0</td>\n",
              "      <td>[0, 0, 0, 0, 0, 0, 0, 0, 0, 0, 0, 0, 0, 0, 0, ...</td>\n",
              "    </tr>\n",
              "    <tr>\n",
              "      <th>...</th>\n",
              "      <td>...</td>\n",
              "      <td>...</td>\n",
              "    </tr>\n",
              "    <tr>\n",
              "      <th>59995</th>\n",
              "      <td>5</td>\n",
              "      <td>[0, 0, 0, 0, 0, 0, 0, 0, 0, 0, 0, 0, 0, 0, 0, ...</td>\n",
              "    </tr>\n",
              "    <tr>\n",
              "      <th>59996</th>\n",
              "      <td>1</td>\n",
              "      <td>[0, 0, 0, 0, 0, 0, 0, 0, 0, 0, 15, 131, 87, 95...</td>\n",
              "    </tr>\n",
              "    <tr>\n",
              "      <th>59997</th>\n",
              "      <td>3</td>\n",
              "      <td>[0, 0, 0, 0, 0, 0, 0, 0, 0, 5, 15, 0, 0, 0, 0,...</td>\n",
              "    </tr>\n",
              "    <tr>\n",
              "      <th>59998</th>\n",
              "      <td>0</td>\n",
              "      <td>[0, 0, 0, 0, 0, 0, 0, 0, 0, 0, 17, 191, 159, 7...</td>\n",
              "    </tr>\n",
              "    <tr>\n",
              "      <th>59999</th>\n",
              "      <td>5</td>\n",
              "      <td>[0, 0, 0, 0, 0, 0, 0, 0, 0, 0, 0, 0, 0, 0, 0, ...</td>\n",
              "    </tr>\n",
              "  </tbody>\n",
              "</table>\n",
              "<p>60000 rows × 2 columns</p>\n",
              "</div>"
            ],
            "text/plain": [
              "       labels                                             images\n",
              "0           9  [0, 0, 0, 0, 0, 0, 0, 0, 0, 0, 0, 0, 0, 0, 0, ...\n",
              "1           0  [0, 0, 0, 0, 0, 1, 0, 0, 0, 0, 41, 188, 103, 5...\n",
              "2           0  [0, 0, 0, 0, 0, 0, 0, 0, 0, 22, 118, 24, 0, 0,...\n",
              "3           3  [0, 0, 0, 0, 0, 0, 0, 0, 33, 96, 175, 156, 64,...\n",
              "4           0  [0, 0, 0, 0, 0, 0, 0, 0, 0, 0, 0, 0, 0, 0, 0, ...\n",
              "...       ...                                                ...\n",
              "59995       5  [0, 0, 0, 0, 0, 0, 0, 0, 0, 0, 0, 0, 0, 0, 0, ...\n",
              "59996       1  [0, 0, 0, 0, 0, 0, 0, 0, 0, 0, 15, 131, 87, 95...\n",
              "59997       3  [0, 0, 0, 0, 0, 0, 0, 0, 0, 5, 15, 0, 0, 0, 0,...\n",
              "59998       0  [0, 0, 0, 0, 0, 0, 0, 0, 0, 0, 17, 191, 159, 7...\n",
              "59999       5  [0, 0, 0, 0, 0, 0, 0, 0, 0, 0, 0, 0, 0, 0, 0, ...\n",
              "\n",
              "[60000 rows x 2 columns]"
            ]
          },
          "metadata": {
            "tags": []
          },
          "execution_count": 8
        }
      ]
    },
    {
      "cell_type": "code",
      "metadata": {
        "colab": {
          "base_uri": "https://localhost:8080/",
          "height": 402
        },
        "id": "XXSBcsgJPOW5",
        "outputId": "8d26d12d-f694-4581-f804-dd93136cbb04"
      },
      "source": [
        "fmnist_train_finaldf = fmnist_train_df[fmnist_train_df['labels'].isin(['2', '4']) ]\n",
        "fmnist_train_finaldf = fmnist_train_finaldf.replace({'labels': {2: 0, 4: 1}})\n",
        "fmnist_train_finaldf"
      ],
      "execution_count": null,
      "outputs": [
        {
          "output_type": "execute_result",
          "data": {
            "text/html": [
              "<div>\n",
              "<style scoped>\n",
              "    .dataframe tbody tr th:only-of-type {\n",
              "        vertical-align: middle;\n",
              "    }\n",
              "\n",
              "    .dataframe tbody tr th {\n",
              "        vertical-align: top;\n",
              "    }\n",
              "\n",
              "    .dataframe thead th {\n",
              "        text-align: right;\n",
              "    }\n",
              "</style>\n",
              "<table border=\"1\" class=\"dataframe\">\n",
              "  <thead>\n",
              "    <tr style=\"text-align: right;\">\n",
              "      <th></th>\n",
              "      <th>labels</th>\n",
              "      <th>images</th>\n",
              "    </tr>\n",
              "  </thead>\n",
              "  <tbody>\n",
              "    <tr>\n",
              "      <th>5</th>\n",
              "      <td>0</td>\n",
              "      <td>[0, 0, 0, 0, 1, 0, 0, 0, 0, 22, 88, 188, 172, ...</td>\n",
              "    </tr>\n",
              "    <tr>\n",
              "      <th>7</th>\n",
              "      <td>0</td>\n",
              "      <td>[0, 0, 0, 0, 0, 1, 1, 0, 0, 0, 0, 63, 28, 0, 0...</td>\n",
              "    </tr>\n",
              "    <tr>\n",
              "      <th>19</th>\n",
              "      <td>1</td>\n",
              "      <td>[0, 0, 0, 0, 0, 0, 0, 2, 0, 0, 12, 55, 98, 52,...</td>\n",
              "    </tr>\n",
              "    <tr>\n",
              "      <th>22</th>\n",
              "      <td>1</td>\n",
              "      <td>[0, 0, 0, 0, 0, 0, 0, 1, 1, 1, 0, 0, 27, 103, ...</td>\n",
              "    </tr>\n",
              "    <tr>\n",
              "      <th>24</th>\n",
              "      <td>1</td>\n",
              "      <td>[0, 0, 0, 0, 0, 0, 0, 0, 0, 0, 90, 156, 177, 1...</td>\n",
              "    </tr>\n",
              "    <tr>\n",
              "      <th>...</th>\n",
              "      <td>...</td>\n",
              "      <td>...</td>\n",
              "    </tr>\n",
              "    <tr>\n",
              "      <th>59982</th>\n",
              "      <td>1</td>\n",
              "      <td>[0, 0, 0, 0, 1, 1, 0, 0, 0, 0, 0, 0, 21, 94, 1...</td>\n",
              "    </tr>\n",
              "    <tr>\n",
              "      <th>59984</th>\n",
              "      <td>1</td>\n",
              "      <td>[0, 0, 0, 0, 0, 0, 0, 0, 2, 0, 0, 23, 90, 125,...</td>\n",
              "    </tr>\n",
              "    <tr>\n",
              "      <th>59986</th>\n",
              "      <td>1</td>\n",
              "      <td>[0, 0, 0, 0, 0, 0, 1, 2, 0, 0, 52, 92, 107, 85...</td>\n",
              "    </tr>\n",
              "    <tr>\n",
              "      <th>59990</th>\n",
              "      <td>1</td>\n",
              "      <td>[0, 0, 0, 0, 0, 0, 0, 0, 1, 0, 0, 127, 138, 10...</td>\n",
              "    </tr>\n",
              "    <tr>\n",
              "      <th>59993</th>\n",
              "      <td>0</td>\n",
              "      <td>[0, 0, 0, 0, 0, 0, 0, 0, 0, 0, 0, 0, 13, 11, 3...</td>\n",
              "    </tr>\n",
              "  </tbody>\n",
              "</table>\n",
              "<p>12000 rows × 2 columns</p>\n",
              "</div>"
            ],
            "text/plain": [
              "       labels                                             images\n",
              "5           0  [0, 0, 0, 0, 1, 0, 0, 0, 0, 22, 88, 188, 172, ...\n",
              "7           0  [0, 0, 0, 0, 0, 1, 1, 0, 0, 0, 0, 63, 28, 0, 0...\n",
              "19          1  [0, 0, 0, 0, 0, 0, 0, 2, 0, 0, 12, 55, 98, 52,...\n",
              "22          1  [0, 0, 0, 0, 0, 0, 0, 1, 1, 1, 0, 0, 27, 103, ...\n",
              "24          1  [0, 0, 0, 0, 0, 0, 0, 0, 0, 0, 90, 156, 177, 1...\n",
              "...       ...                                                ...\n",
              "59982       1  [0, 0, 0, 0, 1, 1, 0, 0, 0, 0, 0, 0, 21, 94, 1...\n",
              "59984       1  [0, 0, 0, 0, 0, 0, 0, 0, 2, 0, 0, 23, 90, 125,...\n",
              "59986       1  [0, 0, 0, 0, 0, 0, 1, 2, 0, 0, 52, 92, 107, 85...\n",
              "59990       1  [0, 0, 0, 0, 0, 0, 0, 0, 1, 0, 0, 127, 138, 10...\n",
              "59993       0  [0, 0, 0, 0, 0, 0, 0, 0, 0, 0, 0, 0, 13, 11, 3...\n",
              "\n",
              "[12000 rows x 2 columns]"
            ]
          },
          "metadata": {
            "tags": []
          },
          "execution_count": 9
        }
      ]
    },
    {
      "cell_type": "code",
      "metadata": {
        "id": "9TtoSVgP1PM1"
      },
      "source": [
        "fmnist_test_finaldf = fmnist_test_df[fmnist_test_df['labels'].isin(['2', '4']) ]\n"
      ],
      "execution_count": null,
      "outputs": []
    },
    {
      "cell_type": "code",
      "metadata": {
        "colab": {
          "base_uri": "https://localhost:8080/",
          "height": 402
        },
        "id": "DMLVeG-bFKN2",
        "outputId": "928be763-dcbe-4276-fb96-593d687138ba"
      },
      "source": [
        "fmnist_test_finaldf = fmnist_test_finaldf.replace({'labels': {2: 0, 4: 1}})\n",
        "fmnist_test_finaldf"
      ],
      "execution_count": null,
      "outputs": [
        {
          "output_type": "execute_result",
          "data": {
            "text/html": [
              "<div>\n",
              "<style scoped>\n",
              "    .dataframe tbody tr th:only-of-type {\n",
              "        vertical-align: middle;\n",
              "    }\n",
              "\n",
              "    .dataframe tbody tr th {\n",
              "        vertical-align: top;\n",
              "    }\n",
              "\n",
              "    .dataframe thead th {\n",
              "        text-align: right;\n",
              "    }\n",
              "</style>\n",
              "<table border=\"1\" class=\"dataframe\">\n",
              "  <thead>\n",
              "    <tr style=\"text-align: right;\">\n",
              "      <th></th>\n",
              "      <th>labels</th>\n",
              "      <th>images</th>\n",
              "    </tr>\n",
              "  </thead>\n",
              "  <tbody>\n",
              "    <tr>\n",
              "      <th>1</th>\n",
              "      <td>0</td>\n",
              "      <td>[0, 0, 0, 0, 0, 0, 0, 0, 0, 0, 13, 67, 0, 0, 0...</td>\n",
              "    </tr>\n",
              "    <tr>\n",
              "      <th>6</th>\n",
              "      <td>1</td>\n",
              "      <td>[0, 0, 0, 0, 0, 0, 0, 0, 1, 0, 0, 17, 0, 35, 5...</td>\n",
              "    </tr>\n",
              "    <tr>\n",
              "      <th>10</th>\n",
              "      <td>1</td>\n",
              "      <td>[0, 0, 0, 0, 0, 0, 0, 0, 0, 0, 0, 145, 190, 97...</td>\n",
              "    </tr>\n",
              "    <tr>\n",
              "      <th>14</th>\n",
              "      <td>1</td>\n",
              "      <td>[0, 0, 0, 0, 0, 0, 0, 0, 0, 0, 0, 0, 101, 117,...</td>\n",
              "    </tr>\n",
              "    <tr>\n",
              "      <th>16</th>\n",
              "      <td>0</td>\n",
              "      <td>[0, 0, 0, 0, 0, 0, 0, 0, 0, 15, 100, 132, 103,...</td>\n",
              "    </tr>\n",
              "    <tr>\n",
              "      <th>...</th>\n",
              "      <td>...</td>\n",
              "      <td>...</td>\n",
              "    </tr>\n",
              "    <tr>\n",
              "      <th>9966</th>\n",
              "      <td>1</td>\n",
              "      <td>[0, 0, 0, 0, 0, 0, 0, 1, 0, 0, 7, 88, 140, 177...</td>\n",
              "    </tr>\n",
              "    <tr>\n",
              "      <th>9970</th>\n",
              "      <td>0</td>\n",
              "      <td>[0, 0, 0, 0, 0, 0, 17, 46, 57, 161, 163, 116, ...</td>\n",
              "    </tr>\n",
              "    <tr>\n",
              "      <th>9972</th>\n",
              "      <td>0</td>\n",
              "      <td>[0, 0, 0, 0, 0, 0, 0, 48, 117, 187, 177, 134, ...</td>\n",
              "    </tr>\n",
              "    <tr>\n",
              "      <th>9985</th>\n",
              "      <td>0</td>\n",
              "      <td>[0, 0, 0, 0, 0, 0, 0, 0, 0, 19, 38, 93, 59, 27...</td>\n",
              "    </tr>\n",
              "    <tr>\n",
              "      <th>9989</th>\n",
              "      <td>1</td>\n",
              "      <td>[0, 0, 0, 0, 0, 0, 0, 0, 0, 7, 133, 142, 109, ...</td>\n",
              "    </tr>\n",
              "  </tbody>\n",
              "</table>\n",
              "<p>2000 rows × 2 columns</p>\n",
              "</div>"
            ],
            "text/plain": [
              "      labels                                             images\n",
              "1          0  [0, 0, 0, 0, 0, 0, 0, 0, 0, 0, 13, 67, 0, 0, 0...\n",
              "6          1  [0, 0, 0, 0, 0, 0, 0, 0, 1, 0, 0, 17, 0, 35, 5...\n",
              "10         1  [0, 0, 0, 0, 0, 0, 0, 0, 0, 0, 0, 145, 190, 97...\n",
              "14         1  [0, 0, 0, 0, 0, 0, 0, 0, 0, 0, 0, 0, 101, 117,...\n",
              "16         0  [0, 0, 0, 0, 0, 0, 0, 0, 0, 15, 100, 132, 103,...\n",
              "...      ...                                                ...\n",
              "9966       1  [0, 0, 0, 0, 0, 0, 0, 1, 0, 0, 7, 88, 140, 177...\n",
              "9970       0  [0, 0, 0, 0, 0, 0, 17, 46, 57, 161, 163, 116, ...\n",
              "9972       0  [0, 0, 0, 0, 0, 0, 0, 48, 117, 187, 177, 134, ...\n",
              "9985       0  [0, 0, 0, 0, 0, 0, 0, 0, 0, 19, 38, 93, 59, 27...\n",
              "9989       1  [0, 0, 0, 0, 0, 0, 0, 0, 0, 7, 133, 142, 109, ...\n",
              "\n",
              "[2000 rows x 2 columns]"
            ]
          },
          "metadata": {
            "tags": []
          },
          "execution_count": 11
        }
      ]
    },
    {
      "cell_type": "code",
      "metadata": {
        "colab": {
          "base_uri": "https://localhost:8080/"
        },
        "id": "pObR3MM-4CCc",
        "outputId": "a3c10f80-c3b7-4bd6-d715-cbb0d0995430"
      },
      "source": [
        "data = np.array(list(fmnist_test_finaldf[\"images\"].values))\n",
        "testimg = preprocessing.scale(data)\n",
        "print(testimg.shape)"
      ],
      "execution_count": null,
      "outputs": [
        {
          "output_type": "stream",
          "text": [
            "(2000, 784)\n"
          ],
          "name": "stdout"
        }
      ]
    },
    {
      "cell_type": "code",
      "metadata": {
        "colab": {
          "base_uri": "https://localhost:8080/"
        },
        "id": "X60AnOoc59eQ",
        "outputId": "3027fded-a414-45fa-a55d-706e60900a4e"
      },
      "source": [
        "testimg"
      ],
      "execution_count": null,
      "outputs": [
        {
          "output_type": "execute_result",
          "data": {
            "text/plain": [
              "array([[-0.02236627, -0.02829559, -0.09010171, ..., -0.25301108,\n",
              "        -0.09497303, -0.03703142],\n",
              "       [-0.02236627, -0.02829559, -0.09010171, ..., -0.25301108,\n",
              "        -0.09497303, -0.03703142],\n",
              "       [-0.02236627, -0.02829559, -0.09010171, ..., -0.25301108,\n",
              "        -0.09497303, -0.03703142],\n",
              "       ...,\n",
              "       [-0.02236627, -0.02829559, -0.09010171, ..., -0.25301108,\n",
              "        -0.09497303, -0.03703142],\n",
              "       [-0.02236627, -0.02829559, -0.09010171, ..., -0.25301108,\n",
              "        -0.09497303, -0.03703142],\n",
              "       [-0.02236627, -0.02829559, -0.09010171, ..., -0.25301108,\n",
              "        -0.09497303, -0.03703142]])"
            ]
          },
          "metadata": {
            "tags": []
          },
          "execution_count": 13
        }
      ]
    },
    {
      "cell_type": "code",
      "metadata": {
        "colab": {
          "base_uri": "https://localhost:8080/",
          "height": 265
        },
        "id": "rsQF8QMH5A-H",
        "outputId": "7e92edb5-d60a-42b6-fb22-585ca5acf9ea"
      },
      "source": [
        "tmp = testimg[10,:].reshape((28,28))\n",
        "plt.imshow(tmp, cmap=plt.get_cmap('gray'))\n",
        "plt.show()"
      ],
      "execution_count": null,
      "outputs": [
        {
          "output_type": "display_data",
          "data": {
            "image/png": "[encoded data removed]",
            "text/plain": [
              "<Figure size 432x288 with 1 Axes>"
            ]
          },
          "metadata": {
            "tags": [],
            "needs_background": "light"
          }
        }
      ]
    },
    {
      "cell_type": "code",
      "metadata": {
        "id": "8gNRtgGUopdw",
        "colab": {
          "base_uri": "https://localhost:8080/"
        },
        "outputId": "95c86d63-8044-4f00-e4d8-a8f4806270a1"
      },
      "source": [
        "testlabel = np.array(list(fmnist_test_finaldf[\"labels\"].values))\n",
        "testlabel"
      ],
      "execution_count": null,
      "outputs": [
        {
          "output_type": "execute_result",
          "data": {
            "text/plain": [
              "array([0, 1, 1, ..., 0, 0, 1])"
            ]
          },
          "metadata": {
            "tags": []
          },
          "execution_count": 15
        }
      ]
    },
    {
      "cell_type": "markdown",
      "metadata": {
        "id": "5WGQ4punNYI1"
      },
      "source": [
        "Trainin data split : All samples of Pullover and 500 samples for coat"
      ]
    },
    {
      "cell_type": "code",
      "metadata": {
        "colab": {
          "base_uri": "https://localhost:8080/",
          "height": 402
        },
        "id": "bBJY8yjTMacO",
        "outputId": "899fa01c-fc9c-4862-ca9e-6e508a339547"
      },
      "source": [
        "traindata_iter1 = fmnist_train_finaldf[(fmnist_train_finaldf[\"labels\"] == 0) ]\n",
        "traindata_iter1 = traindata_iter1.append(fmnist_train_finaldf[fmnist_train_finaldf[\"labels\"] == 1][0:500])\n",
        "traindata_iter1"
      ],
      "execution_count": null,
      "outputs": [
        {
          "output_type": "execute_result",
          "data": {
            "text/html": [
              "<div>\n",
              "<style scoped>\n",
              "    .dataframe tbody tr th:only-of-type {\n",
              "        vertical-align: middle;\n",
              "    }\n",
              "\n",
              "    .dataframe tbody tr th {\n",
              "        vertical-align: top;\n",
              "    }\n",
              "\n",
              "    .dataframe thead th {\n",
              "        text-align: right;\n",
              "    }\n",
              "</style>\n",
              "<table border=\"1\" class=\"dataframe\">\n",
              "  <thead>\n",
              "    <tr style=\"text-align: right;\">\n",
              "      <th></th>\n",
              "      <th>labels</th>\n",
              "      <th>images</th>\n",
              "    </tr>\n",
              "  </thead>\n",
              "  <tbody>\n",
              "    <tr>\n",
              "      <th>5</th>\n",
              "      <td>0</td>\n",
              "      <td>[0, 0, 0, 0, 1, 0, 0, 0, 0, 22, 88, 188, 172, ...</td>\n",
              "    </tr>\n",
              "    <tr>\n",
              "      <th>7</th>\n",
              "      <td>0</td>\n",
              "      <td>[0, 0, 0, 0, 0, 1, 1, 0, 0, 0, 0, 63, 28, 0, 0...</td>\n",
              "    </tr>\n",
              "    <tr>\n",
              "      <th>27</th>\n",
              "      <td>0</td>\n",
              "      <td>[0, 0, 0, 1, 0, 0, 0, 0, 0, 70, 173, 202, 169,...</td>\n",
              "    </tr>\n",
              "    <tr>\n",
              "      <th>37</th>\n",
              "      <td>0</td>\n",
              "      <td>[0, 0, 1, 1, 0, 1, 0, 0, 0, 0, 34, 95, 0, 0, 0...</td>\n",
              "    </tr>\n",
              "    <tr>\n",
              "      <th>45</th>\n",
              "      <td>0</td>\n",
              "      <td>[0, 0, 0, 1, 0, 0, 0, 0, 0, 34, 148, 202, 107,...</td>\n",
              "    </tr>\n",
              "    <tr>\n",
              "      <th>...</th>\n",
              "      <td>...</td>\n",
              "      <td>...</td>\n",
              "    </tr>\n",
              "    <tr>\n",
              "      <th>5042</th>\n",
              "      <td>1</td>\n",
              "      <td>[0, 0, 0, 0, 0, 0, 0, 0, 0, 1, 0, 0, 22, 96, 1...</td>\n",
              "    </tr>\n",
              "    <tr>\n",
              "      <th>5066</th>\n",
              "      <td>1</td>\n",
              "      <td>[0, 0, 0, 0, 0, 0, 0, 0, 0, 0, 1, 0, 0, 0, 0, ...</td>\n",
              "    </tr>\n",
              "    <tr>\n",
              "      <th>5106</th>\n",
              "      <td>1</td>\n",
              "      <td>[0, 0, 0, 0, 0, 0, 0, 0, 0, 0, 0, 0, 1, 20, 39...</td>\n",
              "    </tr>\n",
              "    <tr>\n",
              "      <th>5132</th>\n",
              "      <td>1</td>\n",
              "      <td>[0, 0, 0, 0, 0, 0, 0, 1, 0, 0, 46, 59, 52, 50,...</td>\n",
              "    </tr>\n",
              "    <tr>\n",
              "      <th>5159</th>\n",
              "      <td>1</td>\n",
              "      <td>[0, 0, 0, 0, 0, 1, 0, 0, 4, 0, 0, 106, 150, 14...</td>\n",
              "    </tr>\n",
              "  </tbody>\n",
              "</table>\n",
              "<p>6500 rows × 2 columns</p>\n",
              "</div>"
            ],
            "text/plain": [
              "      labels                                             images\n",
              "5          0  [0, 0, 0, 0, 1, 0, 0, 0, 0, 22, 88, 188, 172, ...\n",
              "7          0  [0, 0, 0, 0, 0, 1, 1, 0, 0, 0, 0, 63, 28, 0, 0...\n",
              "27         0  [0, 0, 0, 1, 0, 0, 0, 0, 0, 70, 173, 202, 169,...\n",
              "37         0  [0, 0, 1, 1, 0, 1, 0, 0, 0, 0, 34, 95, 0, 0, 0...\n",
              "45         0  [0, 0, 0, 1, 0, 0, 0, 0, 0, 34, 148, 202, 107,...\n",
              "...      ...                                                ...\n",
              "5042       1  [0, 0, 0, 0, 0, 0, 0, 0, 0, 1, 0, 0, 22, 96, 1...\n",
              "5066       1  [0, 0, 0, 0, 0, 0, 0, 0, 0, 0, 1, 0, 0, 0, 0, ...\n",
              "5106       1  [0, 0, 0, 0, 0, 0, 0, 0, 0, 0, 0, 0, 1, 20, 39...\n",
              "5132       1  [0, 0, 0, 0, 0, 0, 0, 1, 0, 0, 46, 59, 52, 50,...\n",
              "5159       1  [0, 0, 0, 0, 0, 1, 0, 0, 4, 0, 0, 106, 150, 14...\n",
              "\n",
              "[6500 rows x 2 columns]"
            ]
          },
          "metadata": {
            "tags": []
          },
          "execution_count": 16
        }
      ]
    },
    {
      "cell_type": "code",
      "metadata": {
        "id": "AtRGreLRS_6Y"
      },
      "source": [
        "train_label_iter1 = np.array(list(traindata_iter1[\"labels\"].values))\n",
        "train_img_iter1 = np.array(list(traindata_iter1[\"images\"].values))\n",
        "train_img_iter1 = preprocessing.scale(train_img_iter1)"
      ],
      "execution_count": null,
      "outputs": []
    },
    {
      "cell_type": "code",
      "metadata": {
        "colab": {
          "base_uri": "https://localhost:8080/"
        },
        "id": "F_3uUcgrCA1q",
        "outputId": "2db0dd00-5395-44c2-86e0-17c9fa439b14"
      },
      "source": [
        "train_img_iter1"
      ],
      "execution_count": null,
      "outputs": [
        {
          "output_type": "execute_result",
          "data": {
            "text/plain": [
              "array([[-0.01240443, -0.045721  , -0.05719597, ..., -0.27674157,\n",
              "        -0.11720215, -0.04257742],\n",
              "       [-0.01240443, -0.045721  , -0.05719597, ...,  2.46607919,\n",
              "        -0.11720215, -0.04257742],\n",
              "       [-0.01240443, -0.045721  , -0.05719597, ..., -0.27674157,\n",
              "        -0.11720215, -0.04257742],\n",
              "       ...,\n",
              "       [-0.01240443, -0.045721  , -0.05719597, ..., -0.27674157,\n",
              "        -0.11720215, -0.04257742],\n",
              "       [-0.01240443, -0.045721  , -0.05719597, ..., -0.27674157,\n",
              "        -0.11720215, -0.04257742],\n",
              "       [-0.01240443, -0.045721  , -0.05719597, ..., -0.27674157,\n",
              "        -0.11720215, -0.04257742]])"
            ]
          },
          "metadata": {
            "tags": []
          },
          "execution_count": 18
        }
      ]
    },
    {
      "cell_type": "markdown",
      "metadata": {
        "id": "XuCSajvhN1cv"
      },
      "source": [
        "# Experiment 1"
      ]
    },
    {
      "cell_type": "markdown",
      "metadata": {
        "id": "TXo3Iqa5iVwN"
      },
      "source": [
        "\n",
        "Algorithm : Linear SVM"
      ]
    },
    {
      "cell_type": "code",
      "metadata": {
        "colab": {
          "base_uri": "https://localhost:8080/"
        },
        "id": "U_WvfBtVdGC_",
        "outputId": "d65f3f95-7174-4065-e428-8ed4e3cb291f"
      },
      "source": [
        "clf = svm.SVC(C =10, gamma=.1, kernel='linear', probability=True)\n",
        "clf.fit(train_img_iter1,train_label_iter1)"
      ],
      "execution_count": null,
      "outputs": [
        {
          "output_type": "execute_result",
          "data": {
            "text/plain": [
              "SVC(C=10, break_ties=False, cache_size=200, class_weight=None, coef0=0.0,\n",
              "    decision_function_shape='ovr', degree=3, gamma=0.1, kernel='linear',\n",
              "    max_iter=-1, probability=True, random_state=None, shrinking=True, tol=0.001,\n",
              "    verbose=False)"
            ]
          },
          "metadata": {
            "tags": []
          },
          "execution_count": 19
        }
      ]
    },
    {
      "cell_type": "code",
      "metadata": {
        "colab": {
          "base_uri": "https://localhost:8080/"
        },
        "id": "jgJ6pG5RisGu",
        "outputId": "77827948-c1e1-4d0b-9d6d-28ce65f44e57"
      },
      "source": [
        "test_label_pred = clf.predict(testimg)\n",
        "test_label_pred_prob = clf.predict_proba(testimg)\n",
        "\n",
        "print('\\n Calculating Accuracy of SVM in iteration 1 : ')\n",
        "test_acc_svm_1 = accuracy_score(testlabel,test_label_pred)\n",
        "test_acc_svm_1"
      ],
      "execution_count": null,
      "outputs": [
        {
          "output_type": "stream",
          "text": [
            "\n",
            " Calculating Accuracy of SVM in iteration 1 : \n"
          ],
          "name": "stdout"
        },
        {
          "output_type": "execute_result",
          "data": {
            "text/plain": [
              "0.5885"
            ]
          },
          "metadata": {
            "tags": []
          },
          "execution_count": 20
        }
      ]
    },
    {
      "cell_type": "code",
      "metadata": {
        "colab": {
          "base_uri": "https://localhost:8080/"
        },
        "id": "oN58baUh4Pxv",
        "outputId": "b8d2412e-61c9-41a4-a7bf-21c03d61e481"
      },
      "source": [
        "test_label_pred_prob"
      ],
      "execution_count": null,
      "outputs": [
        {
          "output_type": "execute_result",
          "data": {
            "text/plain": [
              "array([[8.46893452e-01, 1.53106548e-01],\n",
              "       [8.55706968e-01, 1.44293032e-01],\n",
              "       [8.53383278e-01, 1.46616722e-01],\n",
              "       ...,\n",
              "       [9.99999900e-01, 1.00000010e-07],\n",
              "       [9.37983792e-01, 6.20162075e-02],\n",
              "       [9.74078902e-01, 2.59210976e-02]])"
            ]
          },
          "metadata": {
            "tags": []
          },
          "execution_count": 21
        }
      ]
    },
    {
      "cell_type": "markdown",
      "metadata": {
        "id": "Fh1MNJli3VrH"
      },
      "source": [
        "Algorithm : 5 layer neural network with architecture: [ 128 -- 128 -- 128 -- 64 -- 1 ]"
      ]
    },
    {
      "cell_type": "code",
      "metadata": {
        "colab": {
          "base_uri": "https://localhost:8080/"
        },
        "id": "xvId5WZz6SZr",
        "outputId": "8d10782f-c59f-484f-c434-8a8b48daaa59"
      },
      "source": [
        "nn_model = Sequential()\n",
        "\n",
        "#get number of columns in training data\n",
        "n_cols = train_img_iter1.shape[1]\n",
        "\n",
        "\n",
        "#add model layers\n",
        "nn_model.add(Dense(128, activation='relu', input_shape=(n_cols,)))\n",
        "nn_model.add(Dense(128, activation='relu'))\n",
        "nn_model.add(Dense(128, activation='relu'))\n",
        "nn_model.add(Dense(64, activation='relu'))\n",
        "nn_model.add(Dense(1, activation='sigmoid'))\n",
        "nn_model.summary()\n"
      ],
      "execution_count": null,
      "outputs": [
        {
          "output_type": "stream",
          "text": [
            "Model: \"sequential\"\n",
            "_________________________________________________________________\n",
            "Layer (type)                 Output Shape              Param #   \n",
            "=================================================================\n",
            "dense (Dense)                (None, 128)               100480    \n",
            "_________________________________________________________________\n",
            "dense_1 (Dense)              (None, 128)               16512     \n",
            "_________________________________________________________________\n",
            "dense_2 (Dense)              (None, 128)               16512     \n",
            "_________________________________________________________________\n",
            "dense_3 (Dense)              (None, 64)                8256      \n",
            "_________________________________________________________________\n",
            "dense_4 (Dense)              (None, 1)                 65        \n",
            "=================================================================\n",
            "Total params: 141,825\n",
            "Trainable params: 141,825\n",
            "Non-trainable params: 0\n",
            "_________________________________________________________________\n"
          ],
          "name": "stdout"
        }
      ]
    },
    {
      "cell_type": "code",
      "metadata": {
        "id": "atSr71hZ_Sl0"
      },
      "source": [
        "early_stopping_monitor = EarlyStopping(patience=3)\n",
        "nn_model.compile(optimizer='adam', loss='binary_crossentropy', metrics=['accuracy'])\n"
      ],
      "execution_count": null,
      "outputs": []
    },
    {
      "cell_type": "code",
      "metadata": {
        "id": "fq11dsM2CoE2",
        "colab": {
          "base_uri": "https://localhost:8080/"
        },
        "outputId": "6c6362d7-b2bd-44f3-8f06-641be3375c0c"
      },
      "source": [
        "nn_model.fit(train_img_iter1,train_label_iter1, epochs=100,callbacks=[early_stopping_monitor])"
      ],
      "execution_count": null,
      "outputs": [
        {
          "output_type": "stream",
          "text": [
            "Epoch 1/100\n",
            "204/204 [==============================] - 2s 3ms/step - loss: 0.2305 - accuracy: 0.9221\n",
            "WARNING:tensorflow:Early stopping conditioned on metric `val_loss` which is not available. Available metrics are: loss,accuracy\n",
            "Epoch 2/100\n",
            "204/204 [==============================] - 1s 3ms/step - loss: 0.1437 - accuracy: 0.9424\n",
            "WARNING:tensorflow:Early stopping conditioned on metric `val_loss` which is not available. Available metrics are: loss,accuracy\n",
            "Epoch 3/100\n",
            "204/204 [==============================] - 1s 3ms/step - loss: 0.1230 - accuracy: 0.9540\n",
            "WARNING:tensorflow:Early stopping conditioned on metric `val_loss` which is not available. Available metrics are: loss,accuracy\n",
            "Epoch 4/100\n",
            "204/204 [==============================] - 1s 3ms/step - loss: 0.0989 - accuracy: 0.9612\n",
            "WARNING:tensorflow:Early stopping conditioned on metric `val_loss` which is not available. Available metrics are: loss,accuracy\n",
            "Epoch 5/100\n",
            "204/204 [==============================] - 1s 3ms/step - loss: 0.0780 - accuracy: 0.9719\n",
            "WARNING:tensorflow:Early stopping conditioned on metric `val_loss` which is not available. Available metrics are: loss,accuracy\n",
            "Epoch 6/100\n",
            "204/204 [==============================] - 1s 3ms/step - loss: 0.0707 - accuracy: 0.9738\n",
            "WARNING:tensorflow:Early stopping conditioned on metric `val_loss` which is not available. Available metrics are: loss,accuracy\n",
            "Epoch 7/100\n",
            "204/204 [==============================] - 1s 3ms/step - loss: 0.0694 - accuracy: 0.9716\n",
            "WARNING:tensorflow:Early stopping conditioned on metric `val_loss` which is not available. Available metrics are: loss,accuracy\n",
            "Epoch 8/100\n",
            "204/204 [==============================] - 1s 3ms/step - loss: 0.0688 - accuracy: 0.9730\n",
            "WARNING:tensorflow:Early stopping conditioned on metric `val_loss` which is not available. Available metrics are: loss,accuracy\n",
            "Epoch 9/100\n",
            "204/204 [==============================] - 1s 3ms/step - loss: 0.0613 - accuracy: 0.9789\n",
            "WARNING:tensorflow:Early stopping conditioned on metric `val_loss` which is not available. Available metrics are: loss,accuracy\n",
            "Epoch 10/100\n",
            "204/204 [==============================] - 1s 3ms/step - loss: 0.0562 - accuracy: 0.9804\n",
            "WARNING:tensorflow:Early stopping conditioned on metric `val_loss` which is not available. Available metrics are: loss,accuracy\n",
            "Epoch 11/100\n",
            "204/204 [==============================] - 1s 4ms/step - loss: 0.0431 - accuracy: 0.9850\n",
            "WARNING:tensorflow:Early stopping conditioned on metric `val_loss` which is not available. Available metrics are: loss,accuracy\n",
            "Epoch 12/100\n",
            "204/204 [==============================] - 1s 3ms/step - loss: 0.0395 - accuracy: 0.9853\n",
            "WARNING:tensorflow:Early stopping conditioned on metric `val_loss` which is not available. Available metrics are: loss,accuracy\n",
            "Epoch 13/100\n",
            "204/204 [==============================] - 1s 3ms/step - loss: 0.0446 - accuracy: 0.9860\n",
            "WARNING:tensorflow:Early stopping conditioned on metric `val_loss` which is not available. Available metrics are: loss,accuracy\n",
            "Epoch 14/100\n",
            "204/204 [==============================] - 1s 3ms/step - loss: 0.0387 - accuracy: 0.9859\n",
            "WARNING:tensorflow:Early stopping conditioned on metric `val_loss` which is not available. Available metrics are: loss,accuracy\n",
            "Epoch 15/100\n",
            "204/204 [==============================] - 1s 3ms/step - loss: 0.0354 - accuracy: 0.9868\n",
            "WARNING:tensorflow:Early stopping conditioned on metric `val_loss` which is not available. Available metrics are: loss,accuracy\n",
            "Epoch 16/100\n",
            "204/204 [==============================] - 1s 3ms/step - loss: 0.0409 - accuracy: 0.9881\n",
            "WARNING:tensorflow:Early stopping conditioned on metric `val_loss` which is not available. Available metrics are: loss,accuracy\n",
            "Epoch 17/100\n",
            "204/204 [==============================] - 1s 3ms/step - loss: 0.0198 - accuracy: 0.9933\n",
            "WARNING:tensorflow:Early stopping conditioned on metric `val_loss` which is not available. Available metrics are: loss,accuracy\n",
            "Epoch 18/100\n",
            "204/204 [==============================] - 1s 3ms/step - loss: 0.0279 - accuracy: 0.9893\n",
            "WARNING:tensorflow:Early stopping conditioned on metric `val_loss` which is not available. Available metrics are: loss,accuracy\n",
            "Epoch 19/100\n",
            "204/204 [==============================] - 1s 3ms/step - loss: 0.0289 - accuracy: 0.9921\n",
            "WARNING:tensorflow:Early stopping conditioned on metric `val_loss` which is not available. Available metrics are: loss,accuracy\n",
            "Epoch 20/100\n",
            "204/204 [==============================] - 1s 3ms/step - loss: 0.0163 - accuracy: 0.9934\n",
            "WARNING:tensorflow:Early stopping conditioned on metric `val_loss` which is not available. Available metrics are: loss,accuracy\n",
            "Epoch 21/100\n",
            "204/204 [==============================] - 1s 3ms/step - loss: 0.0189 - accuracy: 0.9934\n",
            "WARNING:tensorflow:Early stopping conditioned on metric `val_loss` which is not available. Available metrics are: loss,accuracy\n",
            "Epoch 22/100\n",
            "204/204 [==============================] - 1s 3ms/step - loss: 0.0208 - accuracy: 0.9930\n",
            "WARNING:tensorflow:Early stopping conditioned on metric `val_loss` which is not available. Available metrics are: loss,accuracy\n",
            "Epoch 23/100\n",
            "204/204 [==============================] - 1s 3ms/step - loss: 0.0257 - accuracy: 0.9924\n",
            "WARNING:tensorflow:Early stopping conditioned on metric `val_loss` which is not available. Available metrics are: loss,accuracy\n",
            "Epoch 24/100\n",
            "204/204 [==============================] - 1s 3ms/step - loss: 0.0257 - accuracy: 0.9911\n",
            "WARNING:tensorflow:Early stopping conditioned on metric `val_loss` which is not available. Available metrics are: loss,accuracy\n",
            "Epoch 25/100\n",
            "204/204 [==============================] - 1s 3ms/step - loss: 0.0240 - accuracy: 0.9924\n",
            "WARNING:tensorflow:Early stopping conditioned on metric `val_loss` which is not available. Available metrics are: loss,accuracy\n",
            "Epoch 26/100\n",
            "204/204 [==============================] - 1s 3ms/step - loss: 0.0115 - accuracy: 0.9968\n",
            "WARNING:tensorflow:Early stopping conditioned on metric `val_loss` which is not available. Available metrics are: loss,accuracy\n",
            "Epoch 27/100\n",
            "204/204 [==============================] - 1s 3ms/step - loss: 0.0124 - accuracy: 0.9945\n",
            "WARNING:tensorflow:Early stopping conditioned on metric `val_loss` which is not available. Available metrics are: loss,accuracy\n",
            "Epoch 28/100\n",
            "204/204 [==============================] - 1s 3ms/step - loss: 0.0234 - accuracy: 0.9927\n",
            "WARNING:tensorflow:Early stopping conditioned on metric `val_loss` which is not available. Available metrics are: loss,accuracy\n",
            "Epoch 29/100\n",
            "204/204 [==============================] - 1s 3ms/step - loss: 0.0110 - accuracy: 0.9958\n",
            "WARNING:tensorflow:Early stopping conditioned on metric `val_loss` which is not available. Available metrics are: loss,accuracy\n",
            "Epoch 30/100\n",
            "204/204 [==============================] - 1s 3ms/step - loss: 0.0104 - accuracy: 0.9971\n",
            "WARNING:tensorflow:Early stopping conditioned on metric `val_loss` which is not available. Available metrics are: loss,accuracy\n",
            "Epoch 31/100\n",
            "204/204 [==============================] - 1s 3ms/step - loss: 0.0133 - accuracy: 0.9956\n",
            "WARNING:tensorflow:Early stopping conditioned on metric `val_loss` which is not available. Available metrics are: loss,accuracy\n",
            "Epoch 32/100\n",
            "204/204 [==============================] - 1s 3ms/step - loss: 0.0184 - accuracy: 0.9948\n",
            "WARNING:tensorflow:Early stopping conditioned on metric `val_loss` which is not available. Available metrics are: loss,accuracy\n",
            "Epoch 33/100\n",
            "204/204 [==============================] - 1s 3ms/step - loss: 0.0081 - accuracy: 0.9984\n",
            "WARNING:tensorflow:Early stopping conditioned on metric `val_loss` which is not available. Available metrics are: loss,accuracy\n",
            "Epoch 34/100\n",
            "204/204 [==============================] - 1s 3ms/step - loss: 0.0057 - accuracy: 0.9985\n",
            "WARNING:tensorflow:Early stopping conditioned on metric `val_loss` which is not available. Available metrics are: loss,accuracy\n",
            "Epoch 35/100\n",
            "204/204 [==============================] - 1s 3ms/step - loss: 0.0023 - accuracy: 0.9994\n",
            "WARNING:tensorflow:Early stopping conditioned on metric `val_loss` which is not available. Available metrics are: loss,accuracy\n",
            "Epoch 36/100\n",
            "204/204 [==============================] - 1s 3ms/step - loss: 0.0174 - accuracy: 0.9940\n",
            "WARNING:tensorflow:Early stopping conditioned on metric `val_loss` which is not available. Available metrics are: loss,accuracy\n",
            "Epoch 37/100\n",
            "204/204 [==============================] - 1s 3ms/step - loss: 0.0069 - accuracy: 0.9980\n",
            "WARNING:tensorflow:Early stopping conditioned on metric `val_loss` which is not available. Available metrics are: loss,accuracy\n",
            "Epoch 38/100\n",
            "204/204 [==============================] - 1s 3ms/step - loss: 0.0198 - accuracy: 0.9940\n",
            "WARNING:tensorflow:Early stopping conditioned on metric `val_loss` which is not available. Available metrics are: loss,accuracy\n",
            "Epoch 39/100\n",
            "204/204 [==============================] - 1s 3ms/step - loss: 0.0235 - accuracy: 0.9921\n",
            "WARNING:tensorflow:Early stopping conditioned on metric `val_loss` which is not available. Available metrics are: loss,accuracy\n",
            "Epoch 40/100\n",
            "204/204 [==============================] - 1s 3ms/step - loss: 0.0185 - accuracy: 0.9941\n",
            "WARNING:tensorflow:Early stopping conditioned on metric `val_loss` which is not available. Available metrics are: loss,accuracy\n",
            "Epoch 41/100\n",
            "204/204 [==============================] - 1s 3ms/step - loss: 0.0085 - accuracy: 0.9976\n",
            "WARNING:tensorflow:Early stopping conditioned on metric `val_loss` which is not available. Available metrics are: loss,accuracy\n",
            "Epoch 42/100\n",
            "204/204 [==============================] - 1s 3ms/step - loss: 0.0132 - accuracy: 0.9953\n",
            "WARNING:tensorflow:Early stopping conditioned on metric `val_loss` which is not available. Available metrics are: loss,accuracy\n",
            "Epoch 43/100\n",
            "204/204 [==============================] - 1s 3ms/step - loss: 0.0030 - accuracy: 0.9993\n",
            "WARNING:tensorflow:Early stopping conditioned on metric `val_loss` which is not available. Available metrics are: loss,accuracy\n",
            "Epoch 44/100\n",
            "204/204 [==============================] - 1s 3ms/step - loss: 4.8970e-04 - accuracy: 1.0000\n",
            "WARNING:tensorflow:Early stopping conditioned on metric `val_loss` which is not available. Available metrics are: loss,accuracy\n",
            "Epoch 45/100\n",
            "204/204 [==============================] - 1s 3ms/step - loss: 6.4664e-05 - accuracy: 1.0000\n",
            "WARNING:tensorflow:Early stopping conditioned on metric `val_loss` which is not available. Available metrics are: loss,accuracy\n",
            "Epoch 46/100\n",
            "204/204 [==============================] - 1s 3ms/step - loss: 3.3778e-05 - accuracy: 1.0000\n",
            "WARNING:tensorflow:Early stopping conditioned on metric `val_loss` which is not available. Available metrics are: loss,accuracy\n",
            "Epoch 47/100\n",
            "204/204 [==============================] - 1s 3ms/step - loss: 2.3099e-05 - accuracy: 1.0000\n",
            "WARNING:tensorflow:Early stopping conditioned on metric `val_loss` which is not available. Available metrics are: loss,accuracy\n",
            "Epoch 48/100\n",
            "204/204 [==============================] - 1s 3ms/step - loss: 2.5019e-05 - accuracy: 1.0000\n",
            "WARNING:tensorflow:Early stopping conditioned on metric `val_loss` which is not available. Available metrics are: loss,accuracy\n",
            "Epoch 49/100\n",
            "204/204 [==============================] - 1s 3ms/step - loss: 1.2460e-05 - accuracy: 1.0000\n",
            "WARNING:tensorflow:Early stopping conditioned on metric `val_loss` which is not available. Available metrics are: loss,accuracy\n",
            "Epoch 50/100\n",
            "204/204 [==============================] - 1s 3ms/step - loss: 1.3876e-05 - accuracy: 1.0000\n",
            "WARNING:tensorflow:Early stopping conditioned on metric `val_loss` which is not available. Available metrics are: loss,accuracy\n",
            "Epoch 51/100\n",
            "204/204 [==============================] - 1s 3ms/step - loss: 9.8173e-06 - accuracy: 1.0000\n",
            "WARNING:tensorflow:Early stopping conditioned on metric `val_loss` which is not available. Available metrics are: loss,accuracy\n",
            "Epoch 52/100\n",
            "204/204 [==============================] - 1s 3ms/step - loss: 7.5926e-06 - accuracy: 1.0000\n",
            "WARNING:tensorflow:Early stopping conditioned on metric `val_loss` which is not available. Available metrics are: loss,accuracy\n",
            "Epoch 53/100\n",
            "204/204 [==============================] - 1s 3ms/step - loss: 5.8810e-06 - accuracy: 1.0000\n",
            "WARNING:tensorflow:Early stopping conditioned on metric `val_loss` which is not available. Available metrics are: loss,accuracy\n",
            "Epoch 54/100\n",
            "204/204 [==============================] - 1s 3ms/step - loss: 4.7313e-06 - accuracy: 1.0000\n",
            "WARNING:tensorflow:Early stopping conditioned on metric `val_loss` which is not available. Available metrics are: loss,accuracy\n",
            "Epoch 55/100\n",
            "204/204 [==============================] - 1s 3ms/step - loss: 5.9634e-06 - accuracy: 1.0000\n",
            "WARNING:tensorflow:Early stopping conditioned on metric `val_loss` which is not available. Available metrics are: loss,accuracy\n",
            "Epoch 56/100\n",
            "204/204 [==============================] - 1s 3ms/step - loss: 3.8317e-06 - accuracy: 1.0000\n",
            "WARNING:tensorflow:Early stopping conditioned on metric `val_loss` which is not available. Available metrics are: loss,accuracy\n",
            "Epoch 57/100\n",
            "204/204 [==============================] - 1s 3ms/step - loss: 2.2255e-06 - accuracy: 1.0000\n",
            "WARNING:tensorflow:Early stopping conditioned on metric `val_loss` which is not available. Available metrics are: loss,accuracy\n",
            "Epoch 58/100\n",
            "204/204 [==============================] - 1s 3ms/step - loss: 2.6271e-06 - accuracy: 1.0000\n",
            "WARNING:tensorflow:Early stopping conditioned on metric `val_loss` which is not available. Available metrics are: loss,accuracy\n",
            "Epoch 59/100\n",
            "204/204 [==============================] - 1s 3ms/step - loss: 2.0561e-06 - accuracy: 1.0000\n",
            "WARNING:tensorflow:Early stopping conditioned on metric `val_loss` which is not available. Available metrics are: loss,accuracy\n",
            "Epoch 60/100\n",
            "204/204 [==============================] - 1s 3ms/step - loss: 1.4179e-06 - accuracy: 1.0000\n",
            "WARNING:tensorflow:Early stopping conditioned on metric `val_loss` which is not available. Available metrics are: loss,accuracy\n",
            "Epoch 61/100\n",
            "204/204 [==============================] - 1s 3ms/step - loss: 1.8207e-06 - accuracy: 1.0000\n",
            "WARNING:tensorflow:Early stopping conditioned on metric `val_loss` which is not available. Available metrics are: loss,accuracy\n",
            "Epoch 62/100\n",
            "204/204 [==============================] - 1s 3ms/step - loss: 1.7848e-06 - accuracy: 1.0000\n",
            "WARNING:tensorflow:Early stopping conditioned on metric `val_loss` which is not available. Available metrics are: loss,accuracy\n",
            "Epoch 63/100\n",
            "204/204 [==============================] - 1s 3ms/step - loss: 1.2428e-06 - accuracy: 1.0000\n",
            "WARNING:tensorflow:Early stopping conditioned on metric `val_loss` which is not available. Available metrics are: loss,accuracy\n",
            "Epoch 64/100\n",
            "204/204 [==============================] - 1s 3ms/step - loss: 1.1521e-06 - accuracy: 1.0000\n",
            "WARNING:tensorflow:Early stopping conditioned on metric `val_loss` which is not available. Available metrics are: loss,accuracy\n",
            "Epoch 65/100\n",
            "204/204 [==============================] - 1s 3ms/step - loss: 7.9454e-07 - accuracy: 1.0000\n",
            "WARNING:tensorflow:Early stopping conditioned on metric `val_loss` which is not available. Available metrics are: loss,accuracy\n",
            "Epoch 66/100\n",
            "204/204 [==============================] - 1s 3ms/step - loss: 6.0530e-07 - accuracy: 1.0000\n",
            "WARNING:tensorflow:Early stopping conditioned on metric `val_loss` which is not available. Available metrics are: loss,accuracy\n",
            "Epoch 67/100\n",
            "204/204 [==============================] - 1s 3ms/step - loss: 5.3595e-07 - accuracy: 1.0000\n",
            "WARNING:tensorflow:Early stopping conditioned on metric `val_loss` which is not available. Available metrics are: loss,accuracy\n",
            "Epoch 68/100\n",
            "204/204 [==============================] - 1s 3ms/step - loss: 4.4673e-07 - accuracy: 1.0000\n",
            "WARNING:tensorflow:Early stopping conditioned on metric `val_loss` which is not available. Available metrics are: loss,accuracy\n",
            "Epoch 69/100\n",
            "204/204 [==============================] - 1s 3ms/step - loss: 3.7568e-07 - accuracy: 1.0000\n",
            "WARNING:tensorflow:Early stopping conditioned on metric `val_loss` which is not available. Available metrics are: loss,accuracy\n",
            "Epoch 70/100\n",
            "204/204 [==============================] - 1s 3ms/step - loss: 2.6163e-07 - accuracy: 1.0000\n",
            "WARNING:tensorflow:Early stopping conditioned on metric `val_loss` which is not available. Available metrics are: loss,accuracy\n",
            "Epoch 71/100\n",
            "204/204 [==============================] - 1s 3ms/step - loss: 2.2866e-07 - accuracy: 1.0000\n",
            "WARNING:tensorflow:Early stopping conditioned on metric `val_loss` which is not available. Available metrics are: loss,accuracy\n",
            "Epoch 72/100\n",
            "204/204 [==============================] - 1s 3ms/step - loss: 1.6556e-07 - accuracy: 1.0000\n",
            "WARNING:tensorflow:Early stopping conditioned on metric `val_loss` which is not available. Available metrics are: loss,accuracy\n",
            "Epoch 73/100\n",
            "204/204 [==============================] - 1s 5ms/step - loss: 1.5887e-07 - accuracy: 1.0000\n",
            "WARNING:tensorflow:Early stopping conditioned on metric `val_loss` which is not available. Available metrics are: loss,accuracy\n",
            "Epoch 74/100\n",
            "204/204 [==============================] - 1s 6ms/step - loss: 1.6966e-07 - accuracy: 1.0000\n",
            "WARNING:tensorflow:Early stopping conditioned on metric `val_loss` which is not available. Available metrics are: loss,accuracy\n",
            "Epoch 75/100\n",
            "204/204 [==============================] - 1s 6ms/step - loss: 1.2226e-07 - accuracy: 1.0000\n",
            "WARNING:tensorflow:Early stopping conditioned on metric `val_loss` which is not available. Available metrics are: loss,accuracy\n",
            "Epoch 76/100\n",
            "204/204 [==============================] - 1s 6ms/step - loss: 1.0960e-07 - accuracy: 1.0000\n",
            "WARNING:tensorflow:Early stopping conditioned on metric `val_loss` which is not available. Available metrics are: loss,accuracy\n",
            "Epoch 77/100\n",
            "204/204 [==============================] - 1s 6ms/step - loss: 1.0573e-07 - accuracy: 1.0000\n",
            "WARNING:tensorflow:Early stopping conditioned on metric `val_loss` which is not available. Available metrics are: loss,accuracy\n",
            "Epoch 78/100\n",
            "204/204 [==============================] - 1s 6ms/step - loss: 7.0613e-08 - accuracy: 1.0000\n",
            "WARNING:tensorflow:Early stopping conditioned on metric `val_loss` which is not available. Available metrics are: loss,accuracy\n",
            "Epoch 79/100\n",
            "204/204 [==============================] - 1s 6ms/step - loss: 6.6349e-08 - accuracy: 1.0000\n",
            "WARNING:tensorflow:Early stopping conditioned on metric `val_loss` which is not available. Available metrics are: loss,accuracy\n",
            "Epoch 80/100\n",
            "204/204 [==============================] - 1s 6ms/step - loss: 4.9264e-08 - accuracy: 1.0000\n",
            "WARNING:tensorflow:Early stopping conditioned on metric `val_loss` which is not available. Available metrics are: loss,accuracy\n",
            "Epoch 81/100\n",
            "204/204 [==============================] - 1s 6ms/step - loss: 4.7829e-08 - accuracy: 1.0000\n",
            "WARNING:tensorflow:Early stopping conditioned on metric `val_loss` which is not available. Available metrics are: loss,accuracy\n",
            "Epoch 82/100\n",
            "204/204 [==============================] - 1s 6ms/step - loss: 3.7525e-08 - accuracy: 1.0000\n",
            "WARNING:tensorflow:Early stopping conditioned on metric `val_loss` which is not available. Available metrics are: loss,accuracy\n",
            "Epoch 83/100\n",
            "204/204 [==============================] - 1s 3ms/step - loss: 4.1722e-08 - accuracy: 1.0000\n",
            "WARNING:tensorflow:Early stopping conditioned on metric `val_loss` which is not available. Available metrics are: loss,accuracy\n",
            "Epoch 84/100\n",
            "204/204 [==============================] - 1s 3ms/step - loss: 3.2880e-08 - accuracy: 1.0000\n",
            "WARNING:tensorflow:Early stopping conditioned on metric `val_loss` which is not available. Available metrics are: loss,accuracy\n",
            "Epoch 85/100\n",
            "204/204 [==============================] - 1s 3ms/step - loss: 2.8678e-08 - accuracy: 1.0000\n",
            "WARNING:tensorflow:Early stopping conditioned on metric `val_loss` which is not available. Available metrics are: loss,accuracy\n",
            "Epoch 86/100\n",
            "204/204 [==============================] - 1s 3ms/step - loss: 2.5025e-08 - accuracy: 1.0000\n",
            "WARNING:tensorflow:Early stopping conditioned on metric `val_loss` which is not available. Available metrics are: loss,accuracy\n",
            "Epoch 87/100\n",
            "204/204 [==============================] - 1s 3ms/step - loss: 1.7540e-08 - accuracy: 1.0000\n",
            "WARNING:tensorflow:Early stopping conditioned on metric `val_loss` which is not available. Available metrics are: loss,accuracy\n",
            "Epoch 88/100\n",
            "204/204 [==============================] - 1s 3ms/step - loss: 1.4060e-08 - accuracy: 1.0000\n",
            "WARNING:tensorflow:Early stopping conditioned on metric `val_loss` which is not available. Available metrics are: loss,accuracy\n",
            "Epoch 89/100\n",
            "204/204 [==============================] - 1s 3ms/step - loss: 1.7498e-08 - accuracy: 1.0000\n",
            "WARNING:tensorflow:Early stopping conditioned on metric `val_loss` which is not available. Available metrics are: loss,accuracy\n",
            "Epoch 90/100\n",
            "204/204 [==============================] - 1s 3ms/step - loss: 1.3087e-08 - accuracy: 1.0000\n",
            "WARNING:tensorflow:Early stopping conditioned on metric `val_loss` which is not available. Available metrics are: loss,accuracy\n",
            "Epoch 91/100\n",
            "204/204 [==============================] - 1s 3ms/step - loss: 1.4709e-08 - accuracy: 1.0000\n",
            "WARNING:tensorflow:Early stopping conditioned on metric `val_loss` which is not available. Available metrics are: loss,accuracy\n",
            "Epoch 92/100\n",
            "204/204 [==============================] - 1s 3ms/step - loss: 1.3598e-08 - accuracy: 1.0000\n",
            "WARNING:tensorflow:Early stopping conditioned on metric `val_loss` which is not available. Available metrics are: loss,accuracy\n",
            "Epoch 93/100\n",
            "204/204 [==============================] - 1s 3ms/step - loss: 7.9065e-09 - accuracy: 1.0000\n",
            "WARNING:tensorflow:Early stopping conditioned on metric `val_loss` which is not available. Available metrics are: loss,accuracy\n",
            "Epoch 94/100\n",
            "204/204 [==============================] - 1s 3ms/step - loss: 1.3646e-08 - accuracy: 1.0000\n",
            "WARNING:tensorflow:Early stopping conditioned on metric `val_loss` which is not available. Available metrics are: loss,accuracy\n",
            "Epoch 95/100\n",
            "204/204 [==============================] - 1s 3ms/step - loss: 7.4232e-09 - accuracy: 1.0000\n",
            "WARNING:tensorflow:Early stopping conditioned on metric `val_loss` which is not available. Available metrics are: loss,accuracy\n",
            "Epoch 96/100\n",
            "204/204 [==============================] - 1s 3ms/step - loss: 8.3786e-09 - accuracy: 1.0000\n",
            "WARNING:tensorflow:Early stopping conditioned on metric `val_loss` which is not available. Available metrics are: loss,accuracy\n",
            "Epoch 97/100\n",
            "204/204 [==============================] - 1s 3ms/step - loss: 7.0201e-09 - accuracy: 1.0000\n",
            "WARNING:tensorflow:Early stopping conditioned on metric `val_loss` which is not available. Available metrics are: loss,accuracy\n",
            "Epoch 98/100\n",
            "204/204 [==============================] - 1s 3ms/step - loss: 5.4538e-09 - accuracy: 1.0000\n",
            "WARNING:tensorflow:Early stopping conditioned on metric `val_loss` which is not available. Available metrics are: loss,accuracy\n",
            "Epoch 99/100\n",
            "204/204 [==============================] - 1s 3ms/step - loss: 5.5289e-09 - accuracy: 1.0000\n",
            "WARNING:tensorflow:Early stopping conditioned on metric `val_loss` which is not available. Available metrics are: loss,accuracy\n",
            "Epoch 100/100\n",
            "204/204 [==============================] - 1s 3ms/step - loss: 4.3707e-09 - accuracy: 1.0000\n",
            "WARNING:tensorflow:Early stopping conditioned on metric `val_loss` which is not available. Available metrics are: loss,accuracy\n"
          ],
          "name": "stdout"
        },
        {
          "output_type": "execute_result",
          "data": {
            "text/plain": [
              "<tensorflow.python.keras.callbacks.History at 0x7f216d2f66a0>"
            ]
          },
          "metadata": {
            "tags": []
          },
          "execution_count": 24
        }
      ]
    },
    {
      "cell_type": "code",
      "metadata": {
        "colab": {
          "base_uri": "https://localhost:8080/"
        },
        "id": "5z5LWNPtDrbu",
        "outputId": "89a716d1-c3f0-42a0-fd56-a60eb6e23030"
      },
      "source": [
        "print('\\n Calculating Accuracy of neural network in iteration 1 : ')\n",
        "test_loss_nn_1, test_acc_nn_1 = nn_model.evaluate(testimg, testlabel)"
      ],
      "execution_count": null,
      "outputs": [
        {
          "output_type": "stream",
          "text": [
            "\n",
            " Calculating Accuracy of neural network in iteration 1 : \n",
            "63/63 [==============================] - 0s 2ms/step - loss: 8.8198 - accuracy: 0.7165\n"
          ],
          "name": "stdout"
        }
      ]
    },
    {
      "cell_type": "code",
      "metadata": {
        "id": "31ZR__FRJ5Hb"
      },
      "source": [
        " test_labels_pred_prob_nn1 = nn_model.predict(testimg)"
      ],
      "execution_count": null,
      "outputs": []
    },
    {
      "cell_type": "code",
      "metadata": {
        "colab": {
          "base_uri": "https://localhost:8080/"
        },
        "id": "j0bgEdKML0dH",
        "outputId": "05acfa6e-95bb-46fe-eecd-fce39a91f77a"
      },
      "source": [
        " test_labels_pred_prob_nn1"
      ],
      "execution_count": null,
      "outputs": [
        {
          "output_type": "execute_result",
          "data": {
            "text/plain": [
              "array([[0.000000e+00],\n",
              "       [1.000000e+00],\n",
              "       [9.998587e-01],\n",
              "       ...,\n",
              "       [0.000000e+00],\n",
              "       [0.000000e+00],\n",
              "       [2.788765e-26]], dtype=float32)"
            ]
          },
          "metadata": {
            "tags": []
          },
          "execution_count": 27
        }
      ]
    },
    {
      "cell_type": "markdown",
      "metadata": {
        "id": "m0Xr7Vc3N_MA"
      },
      "source": [
        "# Experiment 2 "
      ]
    },
    {
      "cell_type": "code",
      "metadata": {
        "id": "fEJyF43SONRJ",
        "colab": {
          "base_uri": "https://localhost:8080/"
        },
        "outputId": "b5e8921a-1365-4bba-f141-83c1a55d88d4"
      },
      "source": [
        "traindata_iter2 = fmnist_train_finaldf[(fmnist_train_finaldf[\"labels\"] == 0) ]\n",
        "traindata_iter2 = traindata_iter2.append(fmnist_train_finaldf[fmnist_train_finaldf[\"labels\"] == 1][500:1000])\n",
        "traindata_iter2"
      ],
      "execution_count": null,
      "outputs": [
        {
          "output_type": "execute_result",
          "data": {
            "text/html": [
              "<div>\n",
              "<style scoped>\n",
              "    .dataframe tbody tr th:only-of-type {\n",
              "        vertical-align: middle;\n",
              "    }\n",
              "\n",
              "    .dataframe tbody tr th {\n",
              "        vertical-align: top;\n",
              "    }\n",
              "\n",
              "    .dataframe thead th {\n",
              "        text-align: right;\n",
              "    }\n",
              "</style>\n",
              "<table border=\"1\" class=\"dataframe\">\n",
              "  <thead>\n",
              "    <tr style=\"text-align: right;\">\n",
              "      <th></th>\n",
              "      <th>labels</th>\n",
              "      <th>images</th>\n",
              "    </tr>\n",
              "  </thead>\n",
              "  <tbody>\n",
              "    <tr>\n",
              "      <th>5</th>\n",
              "      <td>0</td>\n",
              "      <td>[0, 0, 0, 0, 1, 0, 0, 0, 0, 22, 88, 188, 172, ...</td>\n",
              "    </tr>\n",
              "    <tr>\n",
              "      <th>7</th>\n",
              "      <td>0</td>\n",
              "      <td>[0, 0, 0, 0, 0, 1, 1, 0, 0, 0, 0, 63, 28, 0, 0...</td>\n",
              "    </tr>\n",
              "    <tr>\n",
              "      <th>27</th>\n",
              "      <td>0</td>\n",
              "      <td>[0, 0, 0, 1, 0, 0, 0, 0, 0, 70, 173, 202, 169,...</td>\n",
              "    </tr>\n",
              "    <tr>\n",
              "      <th>37</th>\n",
              "      <td>0</td>\n",
              "      <td>[0, 0, 1, 1, 0, 1, 0, 0, 0, 0, 34, 95, 0, 0, 0...</td>\n",
              "    </tr>\n",
              "    <tr>\n",
              "      <th>45</th>\n",
              "      <td>0</td>\n",
              "      <td>[0, 0, 0, 1, 0, 0, 0, 0, 0, 34, 148, 202, 107,...</td>\n",
              "    </tr>\n",
              "    <tr>\n",
              "      <th>...</th>\n",
              "      <td>...</td>\n",
              "      <td>...</td>\n",
              "    </tr>\n",
              "    <tr>\n",
              "      <th>10290</th>\n",
              "      <td>1</td>\n",
              "      <td>[0, 0, 0, 0, 0, 0, 0, 0, 0, 0, 42, 132, 159, 1...</td>\n",
              "    </tr>\n",
              "    <tr>\n",
              "      <th>10291</th>\n",
              "      <td>1</td>\n",
              "      <td>[0, 0, 0, 0, 0, 0, 0, 0, 0, 0, 0, 0, 0, 30, 0,...</td>\n",
              "    </tr>\n",
              "    <tr>\n",
              "      <th>10301</th>\n",
              "      <td>1</td>\n",
              "      <td>[0, 0, 0, 0, 0, 0, 0, 0, 0, 0, 0, 0, 112, 210,...</td>\n",
              "    </tr>\n",
              "    <tr>\n",
              "      <th>10312</th>\n",
              "      <td>1</td>\n",
              "      <td>[0, 0, 0, 0, 0, 0, 0, 0, 0, 1, 0, 0, 104, 117,...</td>\n",
              "    </tr>\n",
              "    <tr>\n",
              "      <th>10323</th>\n",
              "      <td>1</td>\n",
              "      <td>[0, 0, 0, 0, 0, 0, 0, 0, 0, 0, 0, 85, 91, 88, ...</td>\n",
              "    </tr>\n",
              "  </tbody>\n",
              "</table>\n",
              "<p>6500 rows × 2 columns</p>\n",
              "</div>"
            ],
            "text/plain": [
              "       labels                                             images\n",
              "5           0  [0, 0, 0, 0, 1, 0, 0, 0, 0, 22, 88, 188, 172, ...\n",
              "7           0  [0, 0, 0, 0, 0, 1, 1, 0, 0, 0, 0, 63, 28, 0, 0...\n",
              "27          0  [0, 0, 0, 1, 0, 0, 0, 0, 0, 70, 173, 202, 169,...\n",
              "37          0  [0, 0, 1, 1, 0, 1, 0, 0, 0, 0, 34, 95, 0, 0, 0...\n",
              "45          0  [0, 0, 0, 1, 0, 0, 0, 0, 0, 34, 148, 202, 107,...\n",
              "...       ...                                                ...\n",
              "10290       1  [0, 0, 0, 0, 0, 0, 0, 0, 0, 0, 42, 132, 159, 1...\n",
              "10291       1  [0, 0, 0, 0, 0, 0, 0, 0, 0, 0, 0, 0, 0, 30, 0,...\n",
              "10301       1  [0, 0, 0, 0, 0, 0, 0, 0, 0, 0, 0, 0, 112, 210,...\n",
              "10312       1  [0, 0, 0, 0, 0, 0, 0, 0, 0, 1, 0, 0, 104, 117,...\n",
              "10323       1  [0, 0, 0, 0, 0, 0, 0, 0, 0, 0, 0, 85, 91, 88, ...\n",
              "\n",
              "[6500 rows x 2 columns]"
            ]
          },
          "metadata": {
            "tags": []
          },
          "execution_count": 28
        }
      ]
    },
    {
      "cell_type": "code",
      "metadata": {
        "id": "qYE1s5K5OUSP"
      },
      "source": [
        "train_label_iter2 = np.array(list(traindata_iter2[\"labels\"].values))\n",
        "train_img_iter2 = np.array(list(traindata_iter2[\"images\"].values))\n",
        "train_img_iter2 = preprocessing.scale(train_img_iter2)"
      ],
      "execution_count": null,
      "outputs": []
    },
    {
      "cell_type": "markdown",
      "metadata": {
        "id": "-QFAGK-VOEUW"
      },
      "source": [
        "Algorithm : Linear SVM"
      ]
    },
    {
      "cell_type": "code",
      "metadata": {
        "colab": {
          "base_uri": "https://localhost:8080/"
        },
        "id": "uD43szcajMDJ",
        "outputId": "dd1a6370-089d-47e3-91d8-e6465b83e757"
      },
      "source": [
        "clf2 = svm.SVC(C =10, gamma=.1, kernel='linear', probability=True)\n",
        "clf2.fit(train_img_iter2,train_label_iter2)\n",
        "\n",
        "test_label_pred2 = clf2.predict(testimg)\n",
        "test_label_pred2_prob = clf2.predict_proba(testimg)\n",
        "\n",
        "print('\\n Calculating Accuracy of SVM in iteration 2 : ')\n",
        "test_acc_svm_2 = accuracy_score(testlabel,test_label_pred2)\n",
        "test_acc_svm_2"
      ],
      "execution_count": null,
      "outputs": [
        {
          "output_type": "stream",
          "text": [
            "\n",
            " Calculating Accuracy of SVM in iteration 2 : \n"
          ],
          "name": "stdout"
        },
        {
          "output_type": "execute_result",
          "data": {
            "text/plain": [
              "0.6045"
            ]
          },
          "metadata": {
            "tags": []
          },
          "execution_count": 30
        }
      ]
    },
    {
      "cell_type": "markdown",
      "metadata": {
        "id": "XBmcJQt1S4zC"
      },
      "source": [
        "Algorithm : 5 layer neural network with architecture: [ 128 -- 128 -- 128 -- 64 -- 1 ]"
      ]
    },
    {
      "cell_type": "code",
      "metadata": {
        "id": "GELOMWK_RAcf",
        "colab": {
          "base_uri": "https://localhost:8080/"
        },
        "outputId": "7f5945e4-7091-458d-c083-07091df5d4a5"
      },
      "source": [
        "nn_model2 = Sequential()\n",
        "#get number of columns in training data\n",
        "n_cols = train_img_iter2.shape[1]\n",
        "#add model layers\n",
        "nn_model2.add(Dense(128, activation='relu', input_shape=(n_cols,)))\n",
        "nn_model2.add(Dense(128, activation='relu'))\n",
        "nn_model2.add(Dense(128, activation='relu'))\n",
        "nn_model2.add(Dense(64, activation='relu'))\n",
        "nn_model2.add(Dense(1, activation='sigmoid'))\n",
        "nn_model2.summary()\n",
        "\n",
        "nn_model2.compile(optimizer='adam', loss='binary_crossentropy', metrics=['accuracy'])\n",
        "nn_model2.fit(train_img_iter2,train_label_iter2, epochs=100,callbacks=[early_stopping_monitor])\n",
        "\n",
        "\n"
      ],
      "execution_count": null,
      "outputs": [
        {
          "output_type": "stream",
          "text": [
            "Model: \"sequential_1\"\n",
            "_________________________________________________________________\n",
            "Layer (type)                 Output Shape              Param #   \n",
            "=================================================================\n",
            "dense_5 (Dense)              (None, 128)               100480    \n",
            "_________________________________________________________________\n",
            "dense_6 (Dense)              (None, 128)               16512     \n",
            "_________________________________________________________________\n",
            "dense_7 (Dense)              (None, 128)               16512     \n",
            "_________________________________________________________________\n",
            "dense_8 (Dense)              (None, 64)                8256      \n",
            "_________________________________________________________________\n",
            "dense_9 (Dense)              (None, 1)                 65        \n",
            "=================================================================\n",
            "Total params: 141,825\n",
            "Trainable params: 141,825\n",
            "Non-trainable params: 0\n",
            "_________________________________________________________________\n",
            "Epoch 1/100\n",
            "204/204 [==============================] - 1s 3ms/step - loss: 0.2206 - accuracy: 0.9276\n",
            "WARNING:tensorflow:Early stopping conditioned on metric `val_loss` which is not available. Available metrics are: loss,accuracy\n",
            "Epoch 2/100\n",
            "204/204 [==============================] - 1s 3ms/step - loss: 0.1465 - accuracy: 0.9433\n",
            "WARNING:tensorflow:Early stopping conditioned on metric `val_loss` which is not available. Available metrics are: loss,accuracy\n",
            "Epoch 3/100\n",
            "204/204 [==============================] - 1s 3ms/step - loss: 0.1067 - accuracy: 0.9564\n",
            "WARNING:tensorflow:Early stopping conditioned on metric `val_loss` which is not available. Available metrics are: loss,accuracy\n",
            "Epoch 4/100\n",
            "204/204 [==============================] - 1s 3ms/step - loss: 0.1006 - accuracy: 0.9604\n",
            "WARNING:tensorflow:Early stopping conditioned on metric `val_loss` which is not available. Available metrics are: loss,accuracy\n",
            "Epoch 5/100\n",
            "204/204 [==============================] - 1s 3ms/step - loss: 0.0834 - accuracy: 0.9686\n",
            "WARNING:tensorflow:Early stopping conditioned on metric `val_loss` which is not available. Available metrics are: loss,accuracy\n",
            "Epoch 6/100\n",
            "204/204 [==============================] - 1s 3ms/step - loss: 0.0790 - accuracy: 0.9722\n",
            "WARNING:tensorflow:Early stopping conditioned on metric `val_loss` which is not available. Available metrics are: loss,accuracy\n",
            "Epoch 7/100\n",
            "204/204 [==============================] - 1s 3ms/step - loss: 0.0672 - accuracy: 0.9765\n",
            "WARNING:tensorflow:Early stopping conditioned on metric `val_loss` which is not available. Available metrics are: loss,accuracy\n",
            "Epoch 8/100\n",
            "204/204 [==============================] - 1s 3ms/step - loss: 0.0630 - accuracy: 0.9754\n",
            "WARNING:tensorflow:Early stopping conditioned on metric `val_loss` which is not available. Available metrics are: loss,accuracy\n",
            "Epoch 9/100\n",
            "204/204 [==============================] - 1s 3ms/step - loss: 0.0463 - accuracy: 0.9827\n",
            "WARNING:tensorflow:Early stopping conditioned on metric `val_loss` which is not available. Available metrics are: loss,accuracy\n",
            "Epoch 10/100\n",
            "204/204 [==============================] - 1s 3ms/step - loss: 0.0553 - accuracy: 0.9783\n",
            "WARNING:tensorflow:Early stopping conditioned on metric `val_loss` which is not available. Available metrics are: loss,accuracy\n",
            "Epoch 11/100\n",
            "204/204 [==============================] - 1s 3ms/step - loss: 0.0452 - accuracy: 0.9842\n",
            "WARNING:tensorflow:Early stopping conditioned on metric `val_loss` which is not available. Available metrics are: loss,accuracy\n",
            "Epoch 12/100\n",
            "204/204 [==============================] - 1s 3ms/step - loss: 0.0414 - accuracy: 0.9854\n",
            "WARNING:tensorflow:Early stopping conditioned on metric `val_loss` which is not available. Available metrics are: loss,accuracy\n",
            "Epoch 13/100\n",
            "204/204 [==============================] - 1s 3ms/step - loss: 0.0386 - accuracy: 0.9863\n",
            "WARNING:tensorflow:Early stopping conditioned on metric `val_loss` which is not available. Available metrics are: loss,accuracy\n",
            "Epoch 14/100\n",
            "204/204 [==============================] - 1s 3ms/step - loss: 0.0444 - accuracy: 0.9850\n",
            "WARNING:tensorflow:Early stopping conditioned on metric `val_loss` which is not available. Available metrics are: loss,accuracy\n",
            "Epoch 15/100\n",
            "204/204 [==============================] - 1s 3ms/step - loss: 0.0271 - accuracy: 0.9905\n",
            "WARNING:tensorflow:Early stopping conditioned on metric `val_loss` which is not available. Available metrics are: loss,accuracy\n",
            "Epoch 16/100\n",
            "204/204 [==============================] - 1s 3ms/step - loss: 0.0421 - accuracy: 0.9858\n",
            "WARNING:tensorflow:Early stopping conditioned on metric `val_loss` which is not available. Available metrics are: loss,accuracy\n",
            "Epoch 17/100\n",
            "204/204 [==============================] - 1s 3ms/step - loss: 0.0260 - accuracy: 0.9901\n",
            "WARNING:tensorflow:Early stopping conditioned on metric `val_loss` which is not available. Available metrics are: loss,accuracy\n",
            "Epoch 18/100\n",
            "204/204 [==============================] - 1s 3ms/step - loss: 0.0297 - accuracy: 0.9901\n",
            "WARNING:tensorflow:Early stopping conditioned on metric `val_loss` which is not available. Available metrics are: loss,accuracy\n",
            "Epoch 19/100\n",
            "204/204 [==============================] - 1s 3ms/step - loss: 0.0176 - accuracy: 0.9936\n",
            "WARNING:tensorflow:Early stopping conditioned on metric `val_loss` which is not available. Available metrics are: loss,accuracy\n",
            "Epoch 20/100\n",
            "204/204 [==============================] - 1s 3ms/step - loss: 0.0151 - accuracy: 0.9952\n",
            "WARNING:tensorflow:Early stopping conditioned on metric `val_loss` which is not available. Available metrics are: loss,accuracy\n",
            "Epoch 21/100\n",
            "204/204 [==============================] - 1s 3ms/step - loss: 0.0185 - accuracy: 0.9945\n",
            "WARNING:tensorflow:Early stopping conditioned on metric `val_loss` which is not available. Available metrics are: loss,accuracy\n",
            "Epoch 22/100\n",
            "204/204 [==============================] - 1s 3ms/step - loss: 0.0203 - accuracy: 0.9928\n",
            "WARNING:tensorflow:Early stopping conditioned on metric `val_loss` which is not available. Available metrics are: loss,accuracy\n",
            "Epoch 23/100\n",
            "204/204 [==============================] - 1s 3ms/step - loss: 0.0114 - accuracy: 0.9969\n",
            "WARNING:tensorflow:Early stopping conditioned on metric `val_loss` which is not available. Available metrics are: loss,accuracy\n",
            "Epoch 24/100\n",
            "204/204 [==============================] - 1s 3ms/step - loss: 0.0094 - accuracy: 0.9965\n",
            "WARNING:tensorflow:Early stopping conditioned on metric `val_loss` which is not available. Available metrics are: loss,accuracy\n",
            "Epoch 25/100\n",
            "204/204 [==============================] - 1s 3ms/step - loss: 0.0071 - accuracy: 0.9982\n",
            "WARNING:tensorflow:Early stopping conditioned on metric `val_loss` which is not available. Available metrics are: loss,accuracy\n",
            "Epoch 26/100\n",
            "204/204 [==============================] - 1s 3ms/step - loss: 0.0104 - accuracy: 0.9967\n",
            "WARNING:tensorflow:Early stopping conditioned on metric `val_loss` which is not available. Available metrics are: loss,accuracy\n",
            "Epoch 27/100\n",
            "204/204 [==============================] - 1s 3ms/step - loss: 0.0128 - accuracy: 0.9949\n",
            "WARNING:tensorflow:Early stopping conditioned on metric `val_loss` which is not available. Available metrics are: loss,accuracy\n",
            "Epoch 28/100\n",
            "204/204 [==============================] - 1s 3ms/step - loss: 0.0202 - accuracy: 0.9931\n",
            "WARNING:tensorflow:Early stopping conditioned on metric `val_loss` which is not available. Available metrics are: loss,accuracy\n",
            "Epoch 29/100\n",
            "204/204 [==============================] - 1s 3ms/step - loss: 0.0170 - accuracy: 0.9957\n",
            "WARNING:tensorflow:Early stopping conditioned on metric `val_loss` which is not available. Available metrics are: loss,accuracy\n",
            "Epoch 30/100\n",
            "204/204 [==============================] - 1s 3ms/step - loss: 0.0109 - accuracy: 0.9964\n",
            "WARNING:tensorflow:Early stopping conditioned on metric `val_loss` which is not available. Available metrics are: loss,accuracy\n",
            "Epoch 31/100\n",
            "204/204 [==============================] - 1s 3ms/step - loss: 0.0022 - accuracy: 0.9997\n",
            "WARNING:tensorflow:Early stopping conditioned on metric `val_loss` which is not available. Available metrics are: loss,accuracy\n",
            "Epoch 32/100\n",
            "204/204 [==============================] - 1s 3ms/step - loss: 0.0193 - accuracy: 0.9933\n",
            "WARNING:tensorflow:Early stopping conditioned on metric `val_loss` which is not available. Available metrics are: loss,accuracy\n",
            "Epoch 33/100\n",
            "204/204 [==============================] - 1s 3ms/step - loss: 0.0334 - accuracy: 0.9876\n",
            "WARNING:tensorflow:Early stopping conditioned on metric `val_loss` which is not available. Available metrics are: loss,accuracy\n",
            "Epoch 34/100\n",
            "204/204 [==============================] - 1s 3ms/step - loss: 0.0120 - accuracy: 0.9964\n",
            "WARNING:tensorflow:Early stopping conditioned on metric `val_loss` which is not available. Available metrics are: loss,accuracy\n",
            "Epoch 35/100\n",
            "204/204 [==============================] - 1s 3ms/step - loss: 0.0105 - accuracy: 0.9964\n",
            "WARNING:tensorflow:Early stopping conditioned on metric `val_loss` which is not available. Available metrics are: loss,accuracy\n",
            "Epoch 36/100\n",
            "204/204 [==============================] - 1s 3ms/step - loss: 0.0076 - accuracy: 0.9976\n",
            "WARNING:tensorflow:Early stopping conditioned on metric `val_loss` which is not available. Available metrics are: loss,accuracy\n",
            "Epoch 37/100\n",
            "204/204 [==============================] - 1s 3ms/step - loss: 0.0127 - accuracy: 0.9951\n",
            "WARNING:tensorflow:Early stopping conditioned on metric `val_loss` which is not available. Available metrics are: loss,accuracy\n",
            "Epoch 38/100\n",
            "204/204 [==============================] - 1s 3ms/step - loss: 0.0082 - accuracy: 0.9979\n",
            "WARNING:tensorflow:Early stopping conditioned on metric `val_loss` which is not available. Available metrics are: loss,accuracy\n",
            "Epoch 39/100\n",
            "204/204 [==============================] - 1s 3ms/step - loss: 0.0036 - accuracy: 0.9987\n",
            "WARNING:tensorflow:Early stopping conditioned on metric `val_loss` which is not available. Available metrics are: loss,accuracy\n",
            "Epoch 40/100\n",
            "204/204 [==============================] - 1s 3ms/step - loss: 0.0135 - accuracy: 0.9969\n",
            "WARNING:tensorflow:Early stopping conditioned on metric `val_loss` which is not available. Available metrics are: loss,accuracy\n",
            "Epoch 41/100\n",
            "204/204 [==============================] - 1s 3ms/step - loss: 0.0034 - accuracy: 0.9990\n",
            "WARNING:tensorflow:Early stopping conditioned on metric `val_loss` which is not available. Available metrics are: loss,accuracy\n",
            "Epoch 42/100\n",
            "204/204 [==============================] - 1s 3ms/step - loss: 0.0213 - accuracy: 0.9934\n",
            "WARNING:tensorflow:Early stopping conditioned on metric `val_loss` which is not available. Available metrics are: loss,accuracy\n",
            "Epoch 43/100\n",
            "204/204 [==============================] - 1s 3ms/step - loss: 0.0094 - accuracy: 0.9977\n",
            "WARNING:tensorflow:Early stopping conditioned on metric `val_loss` which is not available. Available metrics are: loss,accuracy\n",
            "Epoch 44/100\n",
            "204/204 [==============================] - 1s 3ms/step - loss: 0.0035 - accuracy: 0.9996\n",
            "WARNING:tensorflow:Early stopping conditioned on metric `val_loss` which is not available. Available metrics are: loss,accuracy\n",
            "Epoch 45/100\n",
            "204/204 [==============================] - 1s 3ms/step - loss: 0.0147 - accuracy: 0.9941\n",
            "WARNING:tensorflow:Early stopping conditioned on metric `val_loss` which is not available. Available metrics are: loss,accuracy\n",
            "Epoch 46/100\n",
            "204/204 [==============================] - 1s 3ms/step - loss: 0.0023 - accuracy: 0.9996\n",
            "WARNING:tensorflow:Early stopping conditioned on metric `val_loss` which is not available. Available metrics are: loss,accuracy\n",
            "Epoch 47/100\n",
            "204/204 [==============================] - 1s 3ms/step - loss: 0.0104 - accuracy: 0.9970\n",
            "WARNING:tensorflow:Early stopping conditioned on metric `val_loss` which is not available. Available metrics are: loss,accuracy\n",
            "Epoch 48/100\n",
            "204/204 [==============================] - 1s 3ms/step - loss: 0.0091 - accuracy: 0.9972\n",
            "WARNING:tensorflow:Early stopping conditioned on metric `val_loss` which is not available. Available metrics are: loss,accuracy\n",
            "Epoch 49/100\n",
            "204/204 [==============================] - 1s 3ms/step - loss: 0.0079 - accuracy: 0.9977\n",
            "WARNING:tensorflow:Early stopping conditioned on metric `val_loss` which is not available. Available metrics are: loss,accuracy\n",
            "Epoch 50/100\n",
            "204/204 [==============================] - 1s 3ms/step - loss: 0.0208 - accuracy: 0.9938\n",
            "WARNING:tensorflow:Early stopping conditioned on metric `val_loss` which is not available. Available metrics are: loss,accuracy\n",
            "Epoch 51/100\n",
            "204/204 [==============================] - 1s 3ms/step - loss: 6.6151e-04 - accuracy: 1.0000\n",
            "WARNING:tensorflow:Early stopping conditioned on metric `val_loss` which is not available. Available metrics are: loss,accuracy\n",
            "Epoch 52/100\n",
            "204/204 [==============================] - 1s 3ms/step - loss: 0.0024 - accuracy: 0.9993\n",
            "WARNING:tensorflow:Early stopping conditioned on metric `val_loss` which is not available. Available metrics are: loss,accuracy\n",
            "Epoch 53/100\n",
            "204/204 [==============================] - 1s 3ms/step - loss: 1.6539e-04 - accuracy: 1.0000\n",
            "WARNING:tensorflow:Early stopping conditioned on metric `val_loss` which is not available. Available metrics are: loss,accuracy\n",
            "Epoch 54/100\n",
            "204/204 [==============================] - 1s 3ms/step - loss: 4.9858e-05 - accuracy: 1.0000\n",
            "WARNING:tensorflow:Early stopping conditioned on metric `val_loss` which is not available. Available metrics are: loss,accuracy\n",
            "Epoch 55/100\n",
            "204/204 [==============================] - 1s 3ms/step - loss: 2.7562e-05 - accuracy: 1.0000\n",
            "WARNING:tensorflow:Early stopping conditioned on metric `val_loss` which is not available. Available metrics are: loss,accuracy\n",
            "Epoch 56/100\n",
            "204/204 [==============================] - 1s 3ms/step - loss: 2.0637e-05 - accuracy: 1.0000\n",
            "WARNING:tensorflow:Early stopping conditioned on metric `val_loss` which is not available. Available metrics are: loss,accuracy\n",
            "Epoch 57/100\n",
            "204/204 [==============================] - 1s 3ms/step - loss: 1.2560e-05 - accuracy: 1.0000\n",
            "WARNING:tensorflow:Early stopping conditioned on metric `val_loss` which is not available. Available metrics are: loss,accuracy\n",
            "Epoch 58/100\n",
            "204/204 [==============================] - 1s 3ms/step - loss: 1.4154e-05 - accuracy: 1.0000\n",
            "WARNING:tensorflow:Early stopping conditioned on metric `val_loss` which is not available. Available metrics are: loss,accuracy\n",
            "Epoch 59/100\n",
            "204/204 [==============================] - 1s 3ms/step - loss: 1.0616e-05 - accuracy: 1.0000\n",
            "WARNING:tensorflow:Early stopping conditioned on metric `val_loss` which is not available. Available metrics are: loss,accuracy\n",
            "Epoch 60/100\n",
            "204/204 [==============================] - 1s 3ms/step - loss: 7.2614e-06 - accuracy: 1.0000\n",
            "WARNING:tensorflow:Early stopping conditioned on metric `val_loss` which is not available. Available metrics are: loss,accuracy\n",
            "Epoch 61/100\n",
            "204/204 [==============================] - 1s 3ms/step - loss: 4.7720e-06 - accuracy: 1.0000\n",
            "WARNING:tensorflow:Early stopping conditioned on metric `val_loss` which is not available. Available metrics are: loss,accuracy\n",
            "Epoch 62/100\n",
            "204/204 [==============================] - 1s 3ms/step - loss: 4.2726e-06 - accuracy: 1.0000\n",
            "WARNING:tensorflow:Early stopping conditioned on metric `val_loss` which is not available. Available metrics are: loss,accuracy\n",
            "Epoch 63/100\n",
            "204/204 [==============================] - 1s 3ms/step - loss: 3.5218e-06 - accuracy: 1.0000\n",
            "WARNING:tensorflow:Early stopping conditioned on metric `val_loss` which is not available. Available metrics are: loss,accuracy\n",
            "Epoch 64/100\n",
            "204/204 [==============================] - 1s 3ms/step - loss: 2.4990e-06 - accuracy: 1.0000\n",
            "WARNING:tensorflow:Early stopping conditioned on metric `val_loss` which is not available. Available metrics are: loss,accuracy\n",
            "Epoch 65/100\n",
            "204/204 [==============================] - 1s 3ms/step - loss: 3.0611e-06 - accuracy: 1.0000\n",
            "WARNING:tensorflow:Early stopping conditioned on metric `val_loss` which is not available. Available metrics are: loss,accuracy\n",
            "Epoch 66/100\n",
            "204/204 [==============================] - 1s 3ms/step - loss: 1.8664e-06 - accuracy: 1.0000\n",
            "WARNING:tensorflow:Early stopping conditioned on metric `val_loss` which is not available. Available metrics are: loss,accuracy\n",
            "Epoch 67/100\n",
            "204/204 [==============================] - 1s 3ms/step - loss: 2.0301e-06 - accuracy: 1.0000\n",
            "WARNING:tensorflow:Early stopping conditioned on metric `val_loss` which is not available. Available metrics are: loss,accuracy\n",
            "Epoch 68/100\n",
            "204/204 [==============================] - 1s 3ms/step - loss: 1.6810e-06 - accuracy: 1.0000\n",
            "WARNING:tensorflow:Early stopping conditioned on metric `val_loss` which is not available. Available metrics are: loss,accuracy\n",
            "Epoch 69/100\n",
            "204/204 [==============================] - 1s 3ms/step - loss: 1.4513e-06 - accuracy: 1.0000\n",
            "WARNING:tensorflow:Early stopping conditioned on metric `val_loss` which is not available. Available metrics are: loss,accuracy\n",
            "Epoch 70/100\n",
            "204/204 [==============================] - 1s 3ms/step - loss: 9.5009e-07 - accuracy: 1.0000\n",
            "WARNING:tensorflow:Early stopping conditioned on metric `val_loss` which is not available. Available metrics are: loss,accuracy\n",
            "Epoch 71/100\n",
            "204/204 [==============================] - 1s 3ms/step - loss: 9.5813e-07 - accuracy: 1.0000\n",
            "WARNING:tensorflow:Early stopping conditioned on metric `val_loss` which is not available. Available metrics are: loss,accuracy\n",
            "Epoch 72/100\n",
            "204/204 [==============================] - 1s 3ms/step - loss: 7.6471e-07 - accuracy: 1.0000\n",
            "WARNING:tensorflow:Early stopping conditioned on metric `val_loss` which is not available. Available metrics are: loss,accuracy\n",
            "Epoch 73/100\n",
            "204/204 [==============================] - 1s 3ms/step - loss: 6.4196e-07 - accuracy: 1.0000\n",
            "WARNING:tensorflow:Early stopping conditioned on metric `val_loss` which is not available. Available metrics are: loss,accuracy\n",
            "Epoch 74/100\n",
            "204/204 [==============================] - 1s 3ms/step - loss: 5.6615e-07 - accuracy: 1.0000\n",
            "WARNING:tensorflow:Early stopping conditioned on metric `val_loss` which is not available. Available metrics are: loss,accuracy\n",
            "Epoch 75/100\n",
            "204/204 [==============================] - 1s 3ms/step - loss: 4.2050e-07 - accuracy: 1.0000\n",
            "WARNING:tensorflow:Early stopping conditioned on metric `val_loss` which is not available. Available metrics are: loss,accuracy\n",
            "Epoch 76/100\n",
            "204/204 [==============================] - 1s 3ms/step - loss: 3.2779e-07 - accuracy: 1.0000\n",
            "WARNING:tensorflow:Early stopping conditioned on metric `val_loss` which is not available. Available metrics are: loss,accuracy\n",
            "Epoch 77/100\n",
            "204/204 [==============================] - 1s 3ms/step - loss: 4.6265e-07 - accuracy: 1.0000\n",
            "WARNING:tensorflow:Early stopping conditioned on metric `val_loss` which is not available. Available metrics are: loss,accuracy\n",
            "Epoch 78/100\n",
            "204/204 [==============================] - 1s 3ms/step - loss: 2.9958e-07 - accuracy: 1.0000\n",
            "WARNING:tensorflow:Early stopping conditioned on metric `val_loss` which is not available. Available metrics are: loss,accuracy\n",
            "Epoch 79/100\n",
            "204/204 [==============================] - 1s 3ms/step - loss: 3.3670e-07 - accuracy: 1.0000\n",
            "WARNING:tensorflow:Early stopping conditioned on metric `val_loss` which is not available. Available metrics are: loss,accuracy\n",
            "Epoch 80/100\n",
            "204/204 [==============================] - 1s 3ms/step - loss: 2.5355e-07 - accuracy: 1.0000\n",
            "WARNING:tensorflow:Early stopping conditioned on metric `val_loss` which is not available. Available metrics are: loss,accuracy\n",
            "Epoch 81/100\n",
            "204/204 [==============================] - 1s 3ms/step - loss: 1.7782e-07 - accuracy: 1.0000\n",
            "WARNING:tensorflow:Early stopping conditioned on metric `val_loss` which is not available. Available metrics are: loss,accuracy\n",
            "Epoch 82/100\n",
            "204/204 [==============================] - 1s 3ms/step - loss: 1.5579e-07 - accuracy: 1.0000\n",
            "WARNING:tensorflow:Early stopping conditioned on metric `val_loss` which is not available. Available metrics are: loss,accuracy\n",
            "Epoch 83/100\n",
            "204/204 [==============================] - 1s 3ms/step - loss: 1.3256e-07 - accuracy: 1.0000\n",
            "WARNING:tensorflow:Early stopping conditioned on metric `val_loss` which is not available. Available metrics are: loss,accuracy\n",
            "Epoch 84/100\n",
            "204/204 [==============================] - 1s 3ms/step - loss: 1.2653e-07 - accuracy: 1.0000\n",
            "WARNING:tensorflow:Early stopping conditioned on metric `val_loss` which is not available. Available metrics are: loss,accuracy\n",
            "Epoch 85/100\n",
            "204/204 [==============================] - 1s 3ms/step - loss: 1.0832e-07 - accuracy: 1.0000\n",
            "WARNING:tensorflow:Early stopping conditioned on metric `val_loss` which is not available. Available metrics are: loss,accuracy\n",
            "Epoch 86/100\n",
            "204/204 [==============================] - 1s 3ms/step - loss: 1.0674e-07 - accuracy: 1.0000\n",
            "WARNING:tensorflow:Early stopping conditioned on metric `val_loss` which is not available. Available metrics are: loss,accuracy\n",
            "Epoch 87/100\n",
            "204/204 [==============================] - 1s 3ms/step - loss: 1.2591e-07 - accuracy: 1.0000\n",
            "WARNING:tensorflow:Early stopping conditioned on metric `val_loss` which is not available. Available metrics are: loss,accuracy\n",
            "Epoch 88/100\n",
            "204/204 [==============================] - 1s 3ms/step - loss: 1.0667e-07 - accuracy: 1.0000\n",
            "WARNING:tensorflow:Early stopping conditioned on metric `val_loss` which is not available. Available metrics are: loss,accuracy\n",
            "Epoch 89/100\n",
            "204/204 [==============================] - 1s 3ms/step - loss: 7.6706e-08 - accuracy: 1.0000\n",
            "WARNING:tensorflow:Early stopping conditioned on metric `val_loss` which is not available. Available metrics are: loss,accuracy\n",
            "Epoch 90/100\n",
            "204/204 [==============================] - 1s 3ms/step - loss: 7.7944e-08 - accuracy: 1.0000\n",
            "WARNING:tensorflow:Early stopping conditioned on metric `val_loss` which is not available. Available metrics are: loss,accuracy\n",
            "Epoch 91/100\n",
            "204/204 [==============================] - 1s 3ms/step - loss: 4.7523e-08 - accuracy: 1.0000\n",
            "WARNING:tensorflow:Early stopping conditioned on metric `val_loss` which is not available. Available metrics are: loss,accuracy\n",
            "Epoch 92/100\n",
            "204/204 [==============================] - 1s 3ms/step - loss: 4.0864e-08 - accuracy: 1.0000\n",
            "WARNING:tensorflow:Early stopping conditioned on metric `val_loss` which is not available. Available metrics are: loss,accuracy\n",
            "Epoch 93/100\n",
            "204/204 [==============================] - 1s 3ms/step - loss: 4.0023e-08 - accuracy: 1.0000\n",
            "WARNING:tensorflow:Early stopping conditioned on metric `val_loss` which is not available. Available metrics are: loss,accuracy\n",
            "Epoch 94/100\n",
            "204/204 [==============================] - 1s 3ms/step - loss: 3.6361e-08 - accuracy: 1.0000\n",
            "WARNING:tensorflow:Early stopping conditioned on metric `val_loss` which is not available. Available metrics are: loss,accuracy\n",
            "Epoch 95/100\n",
            "204/204 [==============================] - 1s 3ms/step - loss: 3.4607e-08 - accuracy: 1.0000\n",
            "WARNING:tensorflow:Early stopping conditioned on metric `val_loss` which is not available. Available metrics are: loss,accuracy\n",
            "Epoch 96/100\n",
            "204/204 [==============================] - 1s 3ms/step - loss: 2.7608e-08 - accuracy: 1.0000\n",
            "WARNING:tensorflow:Early stopping conditioned on metric `val_loss` which is not available. Available metrics are: loss,accuracy\n",
            "Epoch 97/100\n",
            "204/204 [==============================] - 1s 3ms/step - loss: 3.6454e-08 - accuracy: 1.0000\n",
            "WARNING:tensorflow:Early stopping conditioned on metric `val_loss` which is not available. Available metrics are: loss,accuracy\n",
            "Epoch 98/100\n",
            "204/204 [==============================] - 1s 3ms/step - loss: 1.8708e-08 - accuracy: 1.0000\n",
            "WARNING:tensorflow:Early stopping conditioned on metric `val_loss` which is not available. Available metrics are: loss,accuracy\n",
            "Epoch 99/100\n",
            "204/204 [==============================] - 1s 3ms/step - loss: 2.2116e-08 - accuracy: 1.0000\n",
            "WARNING:tensorflow:Early stopping conditioned on metric `val_loss` which is not available. Available metrics are: loss,accuracy\n",
            "Epoch 100/100\n",
            "204/204 [==============================] - 1s 3ms/step - loss: 2.0816e-08 - accuracy: 1.0000\n",
            "WARNING:tensorflow:Early stopping conditioned on metric `val_loss` which is not available. Available metrics are: loss,accuracy\n"
          ],
          "name": "stdout"
        },
        {
          "output_type": "execute_result",
          "data": {
            "text/plain": [
              "<tensorflow.python.keras.callbacks.History at 0x7f216a392860>"
            ]
          },
          "metadata": {
            "tags": []
          },
          "execution_count": 31
        }
      ]
    },
    {
      "cell_type": "code",
      "metadata": {
        "colab": {
          "base_uri": "https://localhost:8080/"
        },
        "id": "j7bWtZf9UmUd",
        "outputId": "159321fb-0e5e-406e-bdd5-497660930cff"
      },
      "source": [
        "print('\\n Calculating Accuracy of neural network in iteration 2 : ')\n",
        "test_loss_nn_2, test_acc_nn_2 = nn_model2.evaluate(testimg, testlabel)"
      ],
      "execution_count": null,
      "outputs": [
        {
          "output_type": "stream",
          "text": [
            "\n",
            " Calculating Accuracy of neural network in iteration 2 : \n",
            "63/63 [==============================] - 0s 1ms/step - loss: 11.3608 - accuracy: 0.6955\n"
          ],
          "name": "stdout"
        }
      ]
    },
    {
      "cell_type": "code",
      "metadata": {
        "id": "_A0dRzgbKi1G"
      },
      "source": [
        " test_labels_pred_prob_nn2 = nn_model2.predict(testimg)"
      ],
      "execution_count": null,
      "outputs": []
    },
    {
      "cell_type": "markdown",
      "metadata": {
        "id": "5hQhdRCxTDdZ"
      },
      "source": [
        "# Experiment 3"
      ]
    },
    {
      "cell_type": "code",
      "metadata": {
        "colab": {
          "base_uri": "https://localhost:8080/"
        },
        "id": "mNtBd-V2S_Ni",
        "outputId": "2e2bf63e-ce53-439e-a231-4aa87c6c1f29"
      },
      "source": [
        "traindata_iter3 = fmnist_train_finaldf[(fmnist_train_finaldf[\"labels\"] == 0) ]\n",
        "traindata_iter3 = traindata_iter3.append(fmnist_train_finaldf[fmnist_train_finaldf[\"labels\"] == 1][1000:1500])\n",
        "traindata_iter3"
      ],
      "execution_count": null,
      "outputs": [
        {
          "output_type": "execute_result",
          "data": {
            "text/html": [
              "<div>\n",
              "<style scoped>\n",
              "    .dataframe tbody tr th:only-of-type {\n",
              "        vertical-align: middle;\n",
              "    }\n",
              "\n",
              "    .dataframe tbody tr th {\n",
              "        vertical-align: top;\n",
              "    }\n",
              "\n",
              "    .dataframe thead th {\n",
              "        text-align: right;\n",
              "    }\n",
              "</style>\n",
              "<table border=\"1\" class=\"dataframe\">\n",
              "  <thead>\n",
              "    <tr style=\"text-align: right;\">\n",
              "      <th></th>\n",
              "      <th>labels</th>\n",
              "      <th>images</th>\n",
              "    </tr>\n",
              "  </thead>\n",
              "  <tbody>\n",
              "    <tr>\n",
              "      <th>5</th>\n",
              "      <td>0</td>\n",
              "      <td>[0, 0, 0, 0, 1, 0, 0, 0, 0, 22, 88, 188, 172, ...</td>\n",
              "    </tr>\n",
              "    <tr>\n",
              "      <th>7</th>\n",
              "      <td>0</td>\n",
              "      <td>[0, 0, 0, 0, 0, 1, 1, 0, 0, 0, 0, 63, 28, 0, 0...</td>\n",
              "    </tr>\n",
              "    <tr>\n",
              "      <th>27</th>\n",
              "      <td>0</td>\n",
              "      <td>[0, 0, 0, 1, 0, 0, 0, 0, 0, 70, 173, 202, 169,...</td>\n",
              "    </tr>\n",
              "    <tr>\n",
              "      <th>37</th>\n",
              "      <td>0</td>\n",
              "      <td>[0, 0, 1, 1, 0, 1, 0, 0, 0, 0, 34, 95, 0, 0, 0...</td>\n",
              "    </tr>\n",
              "    <tr>\n",
              "      <th>45</th>\n",
              "      <td>0</td>\n",
              "      <td>[0, 0, 0, 1, 0, 0, 0, 0, 0, 34, 148, 202, 107,...</td>\n",
              "    </tr>\n",
              "    <tr>\n",
              "      <th>...</th>\n",
              "      <td>...</td>\n",
              "      <td>...</td>\n",
              "    </tr>\n",
              "    <tr>\n",
              "      <th>15148</th>\n",
              "      <td>1</td>\n",
              "      <td>[0, 0, 0, 0, 0, 0, 0, 0, 0, 0, 0, 30, 101, 113...</td>\n",
              "    </tr>\n",
              "    <tr>\n",
              "      <th>15180</th>\n",
              "      <td>1</td>\n",
              "      <td>[0, 0, 0, 0, 0, 0, 0, 0, 0, 1, 0, 56, 202, 199...</td>\n",
              "    </tr>\n",
              "    <tr>\n",
              "      <th>15204</th>\n",
              "      <td>1</td>\n",
              "      <td>[0, 0, 0, 0, 0, 0, 0, 0, 0, 0, 0, 0, 64, 85, 1...</td>\n",
              "    </tr>\n",
              "    <tr>\n",
              "      <th>15223</th>\n",
              "      <td>1</td>\n",
              "      <td>[0, 0, 0, 0, 0, 0, 0, 0, 0, 0, 96, 76, 0, 25, ...</td>\n",
              "    </tr>\n",
              "    <tr>\n",
              "      <th>15228</th>\n",
              "      <td>1</td>\n",
              "      <td>[0, 0, 0, 0, 0, 4, 0, 0, 0, 0, 0, 35, 100, 143...</td>\n",
              "    </tr>\n",
              "  </tbody>\n",
              "</table>\n",
              "<p>6500 rows × 2 columns</p>\n",
              "</div>"
            ],
            "text/plain": [
              "       labels                                             images\n",
              "5           0  [0, 0, 0, 0, 1, 0, 0, 0, 0, 22, 88, 188, 172, ...\n",
              "7           0  [0, 0, 0, 0, 0, 1, 1, 0, 0, 0, 0, 63, 28, 0, 0...\n",
              "27          0  [0, 0, 0, 1, 0, 0, 0, 0, 0, 70, 173, 202, 169,...\n",
              "37          0  [0, 0, 1, 1, 0, 1, 0, 0, 0, 0, 34, 95, 0, 0, 0...\n",
              "45          0  [0, 0, 0, 1, 0, 0, 0, 0, 0, 34, 148, 202, 107,...\n",
              "...       ...                                                ...\n",
              "15148       1  [0, 0, 0, 0, 0, 0, 0, 0, 0, 0, 0, 30, 101, 113...\n",
              "15180       1  [0, 0, 0, 0, 0, 0, 0, 0, 0, 1, 0, 56, 202, 199...\n",
              "15204       1  [0, 0, 0, 0, 0, 0, 0, 0, 0, 0, 0, 0, 64, 85, 1...\n",
              "15223       1  [0, 0, 0, 0, 0, 0, 0, 0, 0, 0, 96, 76, 0, 25, ...\n",
              "15228       1  [0, 0, 0, 0, 0, 4, 0, 0, 0, 0, 0, 35, 100, 143...\n",
              "\n",
              "[6500 rows x 2 columns]"
            ]
          },
          "metadata": {
            "tags": []
          },
          "execution_count": 34
        }
      ]
    },
    {
      "cell_type": "code",
      "metadata": {
        "id": "_IklVlVeTibl"
      },
      "source": [
        "train_label_iter3 = np.array(list(traindata_iter3[\"labels\"].values))\n",
        "train_img_iter3 = np.array(list(traindata_iter3[\"images\"].values))\n",
        "train_img_iter3 = preprocessing.scale(train_img_iter3)"
      ],
      "execution_count": null,
      "outputs": []
    },
    {
      "cell_type": "markdown",
      "metadata": {
        "id": "UwGjYjSPTx-B"
      },
      "source": [
        "**Algorithm : Linear SVM**"
      ]
    },
    {
      "cell_type": "code",
      "metadata": {
        "colab": {
          "base_uri": "https://localhost:8080/"
        },
        "id": "JFxjaPwVTvmQ",
        "outputId": "fb6b3581-dbdc-41b1-d1e9-02b0ddacdb58"
      },
      "source": [
        "clf3 = svm.SVC(C =10, gamma=.1, kernel='linear', probability=True)\n",
        "clf3.fit(train_img_iter3,train_label_iter3)\n",
        "\n",
        "test_label_pred3 = clf3.predict(testimg)\n",
        "test_label_pred3_prob = clf3.predict_proba(testimg)\n",
        "\n",
        "print('\\n Calculating Accuracy of SVM in iteration 3 : ')\n",
        "test_acc_svm_3 = accuracy_score(testlabel,test_label_pred3)\n",
        "test_acc_svm_3"
      ],
      "execution_count": null,
      "outputs": [
        {
          "output_type": "stream",
          "text": [
            "\n",
            " Calculating Accuracy of SVM in iteration 3 : \n"
          ],
          "name": "stdout"
        },
        {
          "output_type": "execute_result",
          "data": {
            "text/plain": [
              "0.6645"
            ]
          },
          "metadata": {
            "tags": []
          },
          "execution_count": 36
        }
      ]
    },
    {
      "cell_type": "markdown",
      "metadata": {
        "id": "NQsZWpt2T23k"
      },
      "source": [
        "Algorithm : 5 layer neural network with architecture: [ 128 -- 128 -- 128 -- 64 -- 1 ]"
      ]
    },
    {
      "cell_type": "code",
      "metadata": {
        "id": "cR_lzL-iT_I2",
        "colab": {
          "base_uri": "https://localhost:8080/"
        },
        "outputId": "28c27b0c-77b7-45f4-da05-3b6d0920b532"
      },
      "source": [
        "nn_model3 = Sequential()\n",
        "#get number of columns in training data\n",
        "n_cols = train_img_iter3.shape[1]\n",
        "#add model layers\n",
        "nn_model3.add(Dense(128, activation='relu', input_shape=(n_cols,)))\n",
        "nn_model3.add(Dense(128, activation='relu'))\n",
        "nn_model3.add(Dense(128, activation='relu'))\n",
        "nn_model3.add(Dense(64, activation='relu'))\n",
        "nn_model3.add(Dense(1, activation='sigmoid'))\n",
        "nn_model3.summary()\n",
        "\n",
        "nn_model3.compile(optimizer='adam', loss='binary_crossentropy', metrics=['accuracy'])\n",
        "nn_model3.fit(train_img_iter3,train_label_iter3, epochs=100,callbacks=[early_stopping_monitor])\n"
      ],
      "execution_count": null,
      "outputs": [
        {
          "output_type": "stream",
          "text": [
            "Model: \"sequential_2\"\n",
            "_________________________________________________________________\n",
            "Layer (type)                 Output Shape              Param #   \n",
            "=================================================================\n",
            "dense_10 (Dense)             (None, 128)               100480    \n",
            "_________________________________________________________________\n",
            "dense_11 (Dense)             (None, 128)               16512     \n",
            "_________________________________________________________________\n",
            "dense_12 (Dense)             (None, 128)               16512     \n",
            "_________________________________________________________________\n",
            "dense_13 (Dense)             (None, 64)                8256      \n",
            "_________________________________________________________________\n",
            "dense_14 (Dense)             (None, 1)                 65        \n",
            "=================================================================\n",
            "Total params: 141,825\n",
            "Trainable params: 141,825\n",
            "Non-trainable params: 0\n",
            "_________________________________________________________________\n",
            "Epoch 1/100\n",
            "204/204 [==============================] - 1s 3ms/step - loss: 0.2217 - accuracy: 0.9241\n",
            "WARNING:tensorflow:Early stopping conditioned on metric `val_loss` which is not available. Available metrics are: loss,accuracy\n",
            "Epoch 2/100\n",
            "204/204 [==============================] - 1s 3ms/step - loss: 0.1516 - accuracy: 0.9372\n",
            "WARNING:tensorflow:Early stopping conditioned on metric `val_loss` which is not available. Available metrics are: loss,accuracy\n",
            "Epoch 3/100\n",
            "204/204 [==============================] - 1s 3ms/step - loss: 0.1309 - accuracy: 0.9514\n",
            "WARNING:tensorflow:Early stopping conditioned on metric `val_loss` which is not available. Available metrics are: loss,accuracy\n",
            "Epoch 4/100\n",
            "204/204 [==============================] - 1s 3ms/step - loss: 0.1059 - accuracy: 0.9624\n",
            "WARNING:tensorflow:Early stopping conditioned on metric `val_loss` which is not available. Available metrics are: loss,accuracy\n",
            "Epoch 5/100\n",
            "204/204 [==============================] - 1s 3ms/step - loss: 0.1042 - accuracy: 0.9557\n",
            "WARNING:tensorflow:Early stopping conditioned on metric `val_loss` which is not available. Available metrics are: loss,accuracy\n",
            "Epoch 6/100\n",
            "204/204 [==============================] - 1s 3ms/step - loss: 0.0859 - accuracy: 0.9657\n",
            "WARNING:tensorflow:Early stopping conditioned on metric `val_loss` which is not available. Available metrics are: loss,accuracy\n",
            "Epoch 7/100\n",
            "204/204 [==============================] - 1s 3ms/step - loss: 0.0710 - accuracy: 0.9725\n",
            "WARNING:tensorflow:Early stopping conditioned on metric `val_loss` which is not available. Available metrics are: loss,accuracy\n",
            "Epoch 8/100\n",
            "204/204 [==============================] - 1s 3ms/step - loss: 0.0627 - accuracy: 0.9738\n",
            "WARNING:tensorflow:Early stopping conditioned on metric `val_loss` which is not available. Available metrics are: loss,accuracy\n",
            "Epoch 9/100\n",
            "204/204 [==============================] - 1s 3ms/step - loss: 0.0614 - accuracy: 0.9772\n",
            "WARNING:tensorflow:Early stopping conditioned on metric `val_loss` which is not available. Available metrics are: loss,accuracy\n",
            "Epoch 10/100\n",
            "204/204 [==============================] - 1s 3ms/step - loss: 0.0453 - accuracy: 0.9862\n",
            "WARNING:tensorflow:Early stopping conditioned on metric `val_loss` which is not available. Available metrics are: loss,accuracy\n",
            "Epoch 11/100\n",
            "204/204 [==============================] - 1s 3ms/step - loss: 0.0428 - accuracy: 0.9844\n",
            "WARNING:tensorflow:Early stopping conditioned on metric `val_loss` which is not available. Available metrics are: loss,accuracy\n",
            "Epoch 12/100\n",
            "204/204 [==============================] - 1s 3ms/step - loss: 0.0564 - accuracy: 0.9806\n",
            "WARNING:tensorflow:Early stopping conditioned on metric `val_loss` which is not available. Available metrics are: loss,accuracy\n",
            "Epoch 13/100\n",
            "204/204 [==============================] - 1s 3ms/step - loss: 0.0469 - accuracy: 0.9841\n",
            "WARNING:tensorflow:Early stopping conditioned on metric `val_loss` which is not available. Available metrics are: loss,accuracy\n",
            "Epoch 14/100\n",
            "204/204 [==============================] - 1s 3ms/step - loss: 0.0298 - accuracy: 0.9891\n",
            "WARNING:tensorflow:Early stopping conditioned on metric `val_loss` which is not available. Available metrics are: loss,accuracy\n",
            "Epoch 15/100\n",
            "204/204 [==============================] - 1s 3ms/step - loss: 0.0281 - accuracy: 0.9896\n",
            "WARNING:tensorflow:Early stopping conditioned on metric `val_loss` which is not available. Available metrics are: loss,accuracy\n",
            "Epoch 16/100\n",
            "204/204 [==============================] - 1s 3ms/step - loss: 0.0357 - accuracy: 0.9866\n",
            "WARNING:tensorflow:Early stopping conditioned on metric `val_loss` which is not available. Available metrics are: loss,accuracy\n",
            "Epoch 17/100\n",
            "204/204 [==============================] - 1s 3ms/step - loss: 0.0260 - accuracy: 0.9901\n",
            "WARNING:tensorflow:Early stopping conditioned on metric `val_loss` which is not available. Available metrics are: loss,accuracy\n",
            "Epoch 18/100\n",
            "204/204 [==============================] - 1s 3ms/step - loss: 0.0287 - accuracy: 0.9883\n",
            "WARNING:tensorflow:Early stopping conditioned on metric `val_loss` which is not available. Available metrics are: loss,accuracy\n",
            "Epoch 19/100\n",
            "204/204 [==============================] - 1s 3ms/step - loss: 0.0536 - accuracy: 0.9834\n",
            "WARNING:tensorflow:Early stopping conditioned on metric `val_loss` which is not available. Available metrics are: loss,accuracy\n",
            "Epoch 20/100\n",
            "204/204 [==============================] - 1s 3ms/step - loss: 0.0221 - accuracy: 0.9943\n",
            "WARNING:tensorflow:Early stopping conditioned on metric `val_loss` which is not available. Available metrics are: loss,accuracy\n",
            "Epoch 21/100\n",
            "204/204 [==============================] - 1s 3ms/step - loss: 0.0239 - accuracy: 0.9916\n",
            "WARNING:tensorflow:Early stopping conditioned on metric `val_loss` which is not available. Available metrics are: loss,accuracy\n",
            "Epoch 22/100\n",
            "204/204 [==============================] - 1s 3ms/step - loss: 0.0199 - accuracy: 0.9949\n",
            "WARNING:tensorflow:Early stopping conditioned on metric `val_loss` which is not available. Available metrics are: loss,accuracy\n",
            "Epoch 23/100\n",
            "204/204 [==============================] - 1s 3ms/step - loss: 0.0320 - accuracy: 0.9889\n",
            "WARNING:tensorflow:Early stopping conditioned on metric `val_loss` which is not available. Available metrics are: loss,accuracy\n",
            "Epoch 24/100\n",
            "204/204 [==============================] - 1s 3ms/step - loss: 0.0312 - accuracy: 0.9900\n",
            "WARNING:tensorflow:Early stopping conditioned on metric `val_loss` which is not available. Available metrics are: loss,accuracy\n",
            "Epoch 25/100\n",
            "204/204 [==============================] - 1s 3ms/step - loss: 0.0266 - accuracy: 0.9918\n",
            "WARNING:tensorflow:Early stopping conditioned on metric `val_loss` which is not available. Available metrics are: loss,accuracy\n",
            "Epoch 26/100\n",
            "204/204 [==============================] - 1s 3ms/step - loss: 0.0118 - accuracy: 0.9963\n",
            "WARNING:tensorflow:Early stopping conditioned on metric `val_loss` which is not available. Available metrics are: loss,accuracy\n",
            "Epoch 27/100\n",
            "204/204 [==============================] - 1s 3ms/step - loss: 0.0171 - accuracy: 0.9941\n",
            "WARNING:tensorflow:Early stopping conditioned on metric `val_loss` which is not available. Available metrics are: loss,accuracy\n",
            "Epoch 28/100\n",
            "204/204 [==============================] - 1s 3ms/step - loss: 0.0167 - accuracy: 0.9944\n",
            "WARNING:tensorflow:Early stopping conditioned on metric `val_loss` which is not available. Available metrics are: loss,accuracy\n",
            "Epoch 29/100\n",
            "204/204 [==============================] - 1s 3ms/step - loss: 0.0134 - accuracy: 0.9957\n",
            "WARNING:tensorflow:Early stopping conditioned on metric `val_loss` which is not available. Available metrics are: loss,accuracy\n",
            "Epoch 30/100\n",
            "204/204 [==============================] - 1s 3ms/step - loss: 0.0103 - accuracy: 0.9956\n",
            "WARNING:tensorflow:Early stopping conditioned on metric `val_loss` which is not available. Available metrics are: loss,accuracy\n",
            "Epoch 31/100\n",
            "204/204 [==============================] - 1s 3ms/step - loss: 0.0218 - accuracy: 0.9926\n",
            "WARNING:tensorflow:Early stopping conditioned on metric `val_loss` which is not available. Available metrics are: loss,accuracy\n",
            "Epoch 32/100\n",
            "204/204 [==============================] - 1s 3ms/step - loss: 0.0059 - accuracy: 0.9984\n",
            "WARNING:tensorflow:Early stopping conditioned on metric `val_loss` which is not available. Available metrics are: loss,accuracy\n",
            "Epoch 33/100\n",
            "204/204 [==============================] - 1s 3ms/step - loss: 0.0157 - accuracy: 0.9944\n",
            "WARNING:tensorflow:Early stopping conditioned on metric `val_loss` which is not available. Available metrics are: loss,accuracy\n",
            "Epoch 34/100\n",
            "204/204 [==============================] - 1s 3ms/step - loss: 0.0120 - accuracy: 0.9956\n",
            "WARNING:tensorflow:Early stopping conditioned on metric `val_loss` which is not available. Available metrics are: loss,accuracy\n",
            "Epoch 35/100\n",
            "204/204 [==============================] - 1s 3ms/step - loss: 0.0152 - accuracy: 0.9945\n",
            "WARNING:tensorflow:Early stopping conditioned on metric `val_loss` which is not available. Available metrics are: loss,accuracy\n",
            "Epoch 36/100\n",
            "204/204 [==============================] - 1s 3ms/step - loss: 0.0094 - accuracy: 0.9972\n",
            "WARNING:tensorflow:Early stopping conditioned on metric `val_loss` which is not available. Available metrics are: loss,accuracy\n",
            "Epoch 37/100\n",
            "204/204 [==============================] - 1s 3ms/step - loss: 0.0107 - accuracy: 0.9963\n",
            "WARNING:tensorflow:Early stopping conditioned on metric `val_loss` which is not available. Available metrics are: loss,accuracy\n",
            "Epoch 38/100\n",
            "204/204 [==============================] - 1s 3ms/step - loss: 0.0164 - accuracy: 0.9953\n",
            "WARNING:tensorflow:Early stopping conditioned on metric `val_loss` which is not available. Available metrics are: loss,accuracy\n",
            "Epoch 39/100\n",
            "204/204 [==============================] - 1s 3ms/step - loss: 0.0121 - accuracy: 0.9961\n",
            "WARNING:tensorflow:Early stopping conditioned on metric `val_loss` which is not available. Available metrics are: loss,accuracy\n",
            "Epoch 40/100\n",
            "204/204 [==============================] - 1s 3ms/step - loss: 0.0096 - accuracy: 0.9964\n",
            "WARNING:tensorflow:Early stopping conditioned on metric `val_loss` which is not available. Available metrics are: loss,accuracy\n",
            "Epoch 41/100\n",
            "204/204 [==============================] - 1s 3ms/step - loss: 0.0048 - accuracy: 0.9981\n",
            "WARNING:tensorflow:Early stopping conditioned on metric `val_loss` which is not available. Available metrics are: loss,accuracy\n",
            "Epoch 42/100\n",
            "204/204 [==============================] - 1s 3ms/step - loss: 0.0068 - accuracy: 0.9975\n",
            "WARNING:tensorflow:Early stopping conditioned on metric `val_loss` which is not available. Available metrics are: loss,accuracy\n",
            "Epoch 43/100\n",
            "204/204 [==============================] - 1s 3ms/step - loss: 0.0030 - accuracy: 0.9993\n",
            "WARNING:tensorflow:Early stopping conditioned on metric `val_loss` which is not available. Available metrics are: loss,accuracy\n",
            "Epoch 44/100\n",
            "204/204 [==============================] - 1s 3ms/step - loss: 0.0147 - accuracy: 0.9955\n",
            "WARNING:tensorflow:Early stopping conditioned on metric `val_loss` which is not available. Available metrics are: loss,accuracy\n",
            "Epoch 45/100\n",
            "204/204 [==============================] - 1s 3ms/step - loss: 0.0099 - accuracy: 0.9972\n",
            "WARNING:tensorflow:Early stopping conditioned on metric `val_loss` which is not available. Available metrics are: loss,accuracy\n",
            "Epoch 46/100\n",
            "204/204 [==============================] - 1s 3ms/step - loss: 0.0047 - accuracy: 0.9983\n",
            "WARNING:tensorflow:Early stopping conditioned on metric `val_loss` which is not available. Available metrics are: loss,accuracy\n",
            "Epoch 47/100\n",
            "204/204 [==============================] - 1s 3ms/step - loss: 0.0123 - accuracy: 0.9972\n",
            "WARNING:tensorflow:Early stopping conditioned on metric `val_loss` which is not available. Available metrics are: loss,accuracy\n",
            "Epoch 48/100\n",
            "204/204 [==============================] - 1s 3ms/step - loss: 0.0252 - accuracy: 0.9941\n",
            "WARNING:tensorflow:Early stopping conditioned on metric `val_loss` which is not available. Available metrics are: loss,accuracy\n",
            "Epoch 49/100\n",
            "204/204 [==============================] - 1s 3ms/step - loss: 0.0081 - accuracy: 0.9974\n",
            "WARNING:tensorflow:Early stopping conditioned on metric `val_loss` which is not available. Available metrics are: loss,accuracy\n",
            "Epoch 50/100\n",
            "204/204 [==============================] - 1s 3ms/step - loss: 0.0045 - accuracy: 0.9988\n",
            "WARNING:tensorflow:Early stopping conditioned on metric `val_loss` which is not available. Available metrics are: loss,accuracy\n",
            "Epoch 51/100\n",
            "204/204 [==============================] - 1s 3ms/step - loss: 0.0128 - accuracy: 0.9964\n",
            "WARNING:tensorflow:Early stopping conditioned on metric `val_loss` which is not available. Available metrics are: loss,accuracy\n",
            "Epoch 52/100\n",
            "204/204 [==============================] - 1s 3ms/step - loss: 0.0078 - accuracy: 0.9980\n",
            "WARNING:tensorflow:Early stopping conditioned on metric `val_loss` which is not available. Available metrics are: loss,accuracy\n",
            "Epoch 53/100\n",
            "204/204 [==============================] - 1s 3ms/step - loss: 0.0128 - accuracy: 0.9968\n",
            "WARNING:tensorflow:Early stopping conditioned on metric `val_loss` which is not available. Available metrics are: loss,accuracy\n",
            "Epoch 54/100\n",
            "204/204 [==============================] - 1s 3ms/step - loss: 0.0127 - accuracy: 0.9972\n",
            "WARNING:tensorflow:Early stopping conditioned on metric `val_loss` which is not available. Available metrics are: loss,accuracy\n",
            "Epoch 55/100\n",
            "204/204 [==============================] - 1s 3ms/step - loss: 0.0064 - accuracy: 0.9980\n",
            "WARNING:tensorflow:Early stopping conditioned on metric `val_loss` which is not available. Available metrics are: loss,accuracy\n",
            "Epoch 56/100\n",
            "204/204 [==============================] - 1s 3ms/step - loss: 0.0165 - accuracy: 0.9955\n",
            "WARNING:tensorflow:Early stopping conditioned on metric `val_loss` which is not available. Available metrics are: loss,accuracy\n",
            "Epoch 57/100\n",
            "204/204 [==============================] - 1s 3ms/step - loss: 0.0042 - accuracy: 0.9984\n",
            "WARNING:tensorflow:Early stopping conditioned on metric `val_loss` which is not available. Available metrics are: loss,accuracy\n",
            "Epoch 58/100\n",
            "204/204 [==============================] - 1s 3ms/step - loss: 0.0030 - accuracy: 0.9994\n",
            "WARNING:tensorflow:Early stopping conditioned on metric `val_loss` which is not available. Available metrics are: loss,accuracy\n",
            "Epoch 59/100\n",
            "204/204 [==============================] - 1s 3ms/step - loss: 0.0217 - accuracy: 0.9947\n",
            "WARNING:tensorflow:Early stopping conditioned on metric `val_loss` which is not available. Available metrics are: loss,accuracy\n",
            "Epoch 60/100\n",
            "204/204 [==============================] - 1s 3ms/step - loss: 0.0088 - accuracy: 0.9974\n",
            "WARNING:tensorflow:Early stopping conditioned on metric `val_loss` which is not available. Available metrics are: loss,accuracy\n",
            "Epoch 61/100\n",
            "204/204 [==============================] - 1s 3ms/step - loss: 0.0227 - accuracy: 0.9932\n",
            "WARNING:tensorflow:Early stopping conditioned on metric `val_loss` which is not available. Available metrics are: loss,accuracy\n",
            "Epoch 62/100\n",
            "204/204 [==============================] - 1s 3ms/step - loss: 0.0021 - accuracy: 0.9999\n",
            "WARNING:tensorflow:Early stopping conditioned on metric `val_loss` which is not available. Available metrics are: loss,accuracy\n",
            "Epoch 63/100\n",
            "204/204 [==============================] - 1s 3ms/step - loss: 0.0027 - accuracy: 0.9994\n",
            "WARNING:tensorflow:Early stopping conditioned on metric `val_loss` which is not available. Available metrics are: loss,accuracy\n",
            "Epoch 64/100\n",
            "204/204 [==============================] - 1s 3ms/step - loss: 0.0098 - accuracy: 0.9967\n",
            "WARNING:tensorflow:Early stopping conditioned on metric `val_loss` which is not available. Available metrics are: loss,accuracy\n",
            "Epoch 65/100\n",
            "204/204 [==============================] - 1s 3ms/step - loss: 0.0053 - accuracy: 0.9982\n",
            "WARNING:tensorflow:Early stopping conditioned on metric `val_loss` which is not available. Available metrics are: loss,accuracy\n",
            "Epoch 66/100\n",
            "204/204 [==============================] - 1s 3ms/step - loss: 0.0055 - accuracy: 0.9968\n",
            "WARNING:tensorflow:Early stopping conditioned on metric `val_loss` which is not available. Available metrics are: loss,accuracy\n",
            "Epoch 67/100\n",
            "204/204 [==============================] - 1s 3ms/step - loss: 0.0032 - accuracy: 0.9993\n",
            "WARNING:tensorflow:Early stopping conditioned on metric `val_loss` which is not available. Available metrics are: loss,accuracy\n",
            "Epoch 68/100\n",
            "204/204 [==============================] - 1s 3ms/step - loss: 0.0033 - accuracy: 0.9993\n",
            "WARNING:tensorflow:Early stopping conditioned on metric `val_loss` which is not available. Available metrics are: loss,accuracy\n",
            "Epoch 69/100\n",
            "204/204 [==============================] - 1s 3ms/step - loss: 2.5068e-04 - accuracy: 1.0000\n",
            "WARNING:tensorflow:Early stopping conditioned on metric `val_loss` which is not available. Available metrics are: loss,accuracy\n",
            "Epoch 70/100\n",
            "204/204 [==============================] - 1s 3ms/step - loss: 7.9662e-05 - accuracy: 1.0000\n",
            "WARNING:tensorflow:Early stopping conditioned on metric `val_loss` which is not available. Available metrics are: loss,accuracy\n",
            "Epoch 71/100\n",
            "204/204 [==============================] - 1s 3ms/step - loss: 5.2095e-05 - accuracy: 1.0000\n",
            "WARNING:tensorflow:Early stopping conditioned on metric `val_loss` which is not available. Available metrics are: loss,accuracy\n",
            "Epoch 72/100\n",
            "204/204 [==============================] - 1s 3ms/step - loss: 2.1607e-05 - accuracy: 1.0000\n",
            "WARNING:tensorflow:Early stopping conditioned on metric `val_loss` which is not available. Available metrics are: loss,accuracy\n",
            "Epoch 73/100\n",
            "204/204 [==============================] - 1s 3ms/step - loss: 1.1980e-05 - accuracy: 1.0000\n",
            "WARNING:tensorflow:Early stopping conditioned on metric `val_loss` which is not available. Available metrics are: loss,accuracy\n",
            "Epoch 74/100\n",
            "204/204 [==============================] - 1s 3ms/step - loss: 8.4259e-06 - accuracy: 1.0000\n",
            "WARNING:tensorflow:Early stopping conditioned on metric `val_loss` which is not available. Available metrics are: loss,accuracy\n",
            "Epoch 75/100\n",
            "204/204 [==============================] - 1s 3ms/step - loss: 7.2068e-06 - accuracy: 1.0000\n",
            "WARNING:tensorflow:Early stopping conditioned on metric `val_loss` which is not available. Available metrics are: loss,accuracy\n",
            "Epoch 76/100\n",
            "204/204 [==============================] - 1s 3ms/step - loss: 4.1977e-06 - accuracy: 1.0000\n",
            "WARNING:tensorflow:Early stopping conditioned on metric `val_loss` which is not available. Available metrics are: loss,accuracy\n",
            "Epoch 77/100\n",
            "204/204 [==============================] - 1s 3ms/step - loss: 3.8785e-06 - accuracy: 1.0000\n",
            "WARNING:tensorflow:Early stopping conditioned on metric `val_loss` which is not available. Available metrics are: loss,accuracy\n",
            "Epoch 78/100\n",
            "204/204 [==============================] - 1s 3ms/step - loss: 4.0865e-06 - accuracy: 1.0000\n",
            "WARNING:tensorflow:Early stopping conditioned on metric `val_loss` which is not available. Available metrics are: loss,accuracy\n",
            "Epoch 79/100\n",
            "204/204 [==============================] - 1s 3ms/step - loss: 3.5221e-06 - accuracy: 1.0000\n",
            "WARNING:tensorflow:Early stopping conditioned on metric `val_loss` which is not available. Available metrics are: loss,accuracy\n",
            "Epoch 80/100\n",
            "204/204 [==============================] - 1s 3ms/step - loss: 2.8536e-06 - accuracy: 1.0000\n",
            "WARNING:tensorflow:Early stopping conditioned on metric `val_loss` which is not available. Available metrics are: loss,accuracy\n",
            "Epoch 81/100\n",
            "204/204 [==============================] - 1s 3ms/step - loss: 1.7740e-06 - accuracy: 1.0000\n",
            "WARNING:tensorflow:Early stopping conditioned on metric `val_loss` which is not available. Available metrics are: loss,accuracy\n",
            "Epoch 82/100\n",
            "204/204 [==============================] - 1s 3ms/step - loss: 1.4401e-06 - accuracy: 1.0000\n",
            "WARNING:tensorflow:Early stopping conditioned on metric `val_loss` which is not available. Available metrics are: loss,accuracy\n",
            "Epoch 83/100\n",
            "204/204 [==============================] - 1s 3ms/step - loss: 1.6589e-06 - accuracy: 1.0000\n",
            "WARNING:tensorflow:Early stopping conditioned on metric `val_loss` which is not available. Available metrics are: loss,accuracy\n",
            "Epoch 84/100\n",
            "204/204 [==============================] - 1s 3ms/step - loss: 1.4159e-06 - accuracy: 1.0000\n",
            "WARNING:tensorflow:Early stopping conditioned on metric `val_loss` which is not available. Available metrics are: loss,accuracy\n",
            "Epoch 85/100\n",
            "204/204 [==============================] - 1s 3ms/step - loss: 1.1070e-06 - accuracy: 1.0000\n",
            "WARNING:tensorflow:Early stopping conditioned on metric `val_loss` which is not available. Available metrics are: loss,accuracy\n",
            "Epoch 86/100\n",
            "204/204 [==============================] - 1s 3ms/step - loss: 7.7087e-07 - accuracy: 1.0000\n",
            "WARNING:tensorflow:Early stopping conditioned on metric `val_loss` which is not available. Available metrics are: loss,accuracy\n",
            "Epoch 87/100\n",
            "204/204 [==============================] - 1s 3ms/step - loss: 8.3382e-07 - accuracy: 1.0000\n",
            "WARNING:tensorflow:Early stopping conditioned on metric `val_loss` which is not available. Available metrics are: loss,accuracy\n",
            "Epoch 88/100\n",
            "204/204 [==============================] - 1s 3ms/step - loss: 8.4361e-07 - accuracy: 1.0000\n",
            "WARNING:tensorflow:Early stopping conditioned on metric `val_loss` which is not available. Available metrics are: loss,accuracy\n",
            "Epoch 89/100\n",
            "204/204 [==============================] - 1s 3ms/step - loss: 5.4881e-07 - accuracy: 1.0000\n",
            "WARNING:tensorflow:Early stopping conditioned on metric `val_loss` which is not available. Available metrics are: loss,accuracy\n",
            "Epoch 90/100\n",
            "204/204 [==============================] - 1s 3ms/step - loss: 6.4393e-07 - accuracy: 1.0000\n",
            "WARNING:tensorflow:Early stopping conditioned on metric `val_loss` which is not available. Available metrics are: loss,accuracy\n",
            "Epoch 91/100\n",
            "204/204 [==============================] - 1s 3ms/step - loss: 5.2543e-07 - accuracy: 1.0000\n",
            "WARNING:tensorflow:Early stopping conditioned on metric `val_loss` which is not available. Available metrics are: loss,accuracy\n",
            "Epoch 92/100\n",
            "204/204 [==============================] - 1s 3ms/step - loss: 5.1043e-07 - accuracy: 1.0000\n",
            "WARNING:tensorflow:Early stopping conditioned on metric `val_loss` which is not available. Available metrics are: loss,accuracy\n",
            "Epoch 93/100\n",
            "204/204 [==============================] - 1s 3ms/step - loss: 3.9357e-07 - accuracy: 1.0000\n",
            "WARNING:tensorflow:Early stopping conditioned on metric `val_loss` which is not available. Available metrics are: loss,accuracy\n",
            "Epoch 94/100\n",
            "204/204 [==============================] - 1s 3ms/step - loss: 3.0133e-07 - accuracy: 1.0000\n",
            "WARNING:tensorflow:Early stopping conditioned on metric `val_loss` which is not available. Available metrics are: loss,accuracy\n",
            "Epoch 95/100\n",
            "204/204 [==============================] - 1s 3ms/step - loss: 2.9766e-07 - accuracy: 1.0000\n",
            "WARNING:tensorflow:Early stopping conditioned on metric `val_loss` which is not available. Available metrics are: loss,accuracy\n",
            "Epoch 96/100\n",
            "204/204 [==============================] - 1s 3ms/step - loss: 2.6149e-07 - accuracy: 1.0000\n",
            "WARNING:tensorflow:Early stopping conditioned on metric `val_loss` which is not available. Available metrics are: loss,accuracy\n",
            "Epoch 97/100\n",
            "204/204 [==============================] - 1s 3ms/step - loss: 1.9538e-07 - accuracy: 1.0000\n",
            "WARNING:tensorflow:Early stopping conditioned on metric `val_loss` which is not available. Available metrics are: loss,accuracy\n",
            "Epoch 98/100\n",
            "204/204 [==============================] - 1s 3ms/step - loss: 1.5771e-07 - accuracy: 1.0000\n",
            "WARNING:tensorflow:Early stopping conditioned on metric `val_loss` which is not available. Available metrics are: loss,accuracy\n",
            "Epoch 99/100\n",
            "204/204 [==============================] - 1s 3ms/step - loss: 1.3985e-07 - accuracy: 1.0000\n",
            "WARNING:tensorflow:Early stopping conditioned on metric `val_loss` which is not available. Available metrics are: loss,accuracy\n",
            "Epoch 100/100\n",
            "204/204 [==============================] - 1s 3ms/step - loss: 1.4954e-07 - accuracy: 1.0000\n",
            "WARNING:tensorflow:Early stopping conditioned on metric `val_loss` which is not available. Available metrics are: loss,accuracy\n"
          ],
          "name": "stdout"
        },
        {
          "output_type": "execute_result",
          "data": {
            "text/plain": [
              "<tensorflow.python.keras.callbacks.History at 0x7f2169a96be0>"
            ]
          },
          "metadata": {
            "tags": []
          },
          "execution_count": 37
        }
      ]
    },
    {
      "cell_type": "code",
      "metadata": {
        "colab": {
          "base_uri": "https://localhost:8080/"
        },
        "id": "00CAyv2tWj4p",
        "outputId": "b7cc5d05-760d-4e27-d105-2482eb29ae5c"
      },
      "source": [
        "print('\\n Calculating Accuracy of neural network in iteration 2 : ')\n",
        "test_loss_nn_3, test_acc_nn_3 = nn_model3.evaluate(testimg, testlabel)"
      ],
      "execution_count": null,
      "outputs": [
        {
          "output_type": "stream",
          "text": [
            "\n",
            " Calculating Accuracy of neural network in iteration 2 : \n",
            "63/63 [==============================] - 0s 1ms/step - loss: 9.0659 - accuracy: 0.7290\n"
          ],
          "name": "stdout"
        }
      ]
    },
    {
      "cell_type": "code",
      "metadata": {
        "id": "V0wNvThNKpL0"
      },
      "source": [
        " test_labels_pred_prob_nn3 = nn_model3.predict(testimg)"
      ],
      "execution_count": null,
      "outputs": []
    },
    {
      "cell_type": "markdown",
      "metadata": {
        "id": "N6u7-aVSYKVn"
      },
      "source": [
        "# Testing Performance "
      ]
    },
    {
      "cell_type": "code",
      "metadata": {
        "colab": {
          "base_uri": "https://localhost:8080/"
        },
        "id": "IDN793RSW2mX",
        "outputId": "b02344bc-7de6-4ee8-fabf-670a781e41e1"
      },
      "source": [
        "from tabulate import tabulate\n",
        "mean_acc_svm = np.mean((test_acc_svm_1,test_acc_svm_2,test_acc_svm_3),dtype=np.float32)\n",
        "mean_acc_nn = np.mean((test_acc_nn_1,test_acc_nn_2,test_acc_nn_3),dtype=np.float32)\n",
        "\n",
        "std_acc_svm = np.std((test_acc_svm_1,test_acc_svm_2,test_acc_svm_3),dtype=np.float32)\n",
        "std_acc_nn = np.std((test_acc_nn_1,test_acc_nn_2,test_acc_nn_3),dtype=np.float32)\n",
        "\n",
        "table = [[1,test_acc_svm_1,test_acc_nn_1],\n",
        "         [2,test_acc_svm_2,test_acc_nn_2],\n",
        "         [3,test_acc_svm_3,test_acc_nn_3],\n",
        "         [\"mean\",mean_acc_svm,mean_acc_nn],\n",
        "         [\"standard devation\",std_acc_svm,std_acc_nn ]]\n",
        "\n",
        "print(\"\\n Testing Performance and Accuracy \\n \")\n",
        "print(tabulate(table, headers=[\"Experiment\",\"SVM\", \"Neural Network\"]))"
      ],
      "execution_count": null,
      "outputs": [
        {
          "output_type": "stream",
          "text": [
            "\n",
            " Testing Performance and Accuracy \n",
            " \n",
            "Experiment               SVM    Neural Network\n",
            "-----------------  ---------  ----------------\n",
            "1                  0.5885            0.7165\n",
            "2                  0.6045            0.6955\n",
            "3                  0.6645            0.729\n",
            "mean               0.619167          0.713667\n",
            "standard devation  0.0327143         0.0138223\n"
          ],
          "name": "stdout"
        }
      ]
    },
    {
      "cell_type": "markdown",
      "metadata": {
        "id": "AJaeWM_rg09C"
      },
      "source": [
        "# Confusion Matrix"
      ]
    },
    {
      "cell_type": "code",
      "metadata": {
        "colab": {
          "base_uri": "https://localhost:8080/",
          "height": 369
        },
        "id": "dwL3dm8qCfQb",
        "outputId": "9142cd9a-de14-4c91-c02c-780ebf90629d"
      },
      "source": [
        "fig, axes = plt.subplots(nrows=1, ncols=3, figsize=(16,5))\n",
        "\n",
        "svm_conf_exp1 = plot_confusion_matrix(clf, testimg, testlabel, cmap=plt.cm.Blues,values_format=\".1f\",display_labels=[\"Pullover\",\"Coat\"],ax = axes[0])\n",
        "svm_conf_exp2 = plot_confusion_matrix(clf2, testimg, testlabel, cmap=plt.cm.Blues,values_format=\".1f\",display_labels=[\"Pullover\",\"Coat\"],ax =axes[1])\n",
        "svm_conf_exp3 = plot_confusion_matrix(clf3, testimg, testlabel, cmap=plt.cm.Blues,values_format=\".1f\",display_labels=[\"Pullover\",\"Coat\"],ax = axes[2])\n",
        "#disp.ax_.set_title(\"Testing accuracy :\", int(test_acc_svm_1)\n",
        "#print(\"Testing accuracy :\", test_acc_svm_1)\n",
        "#print(svm_conf.confusion_matrix)\n",
        "fig.tight_layout()"
      ],
      "execution_count": null,
      "outputs": [
        {
          "output_type": "display_data",
          "data": {
            "image/png": "[encoded data removed]",
            "text/plain": [
              "<Figure size 1152x360 with 6 Axes>"
            ]
          },
          "metadata": {
            "tags": [],
            "needs_background": "light"
          }
        }
      ]
    },
    {
      "cell_type": "code",
      "metadata": {
        "colab": {
          "base_uri": "https://localhost:8080/",
          "height": 329
        },
        "id": "kZdHXIqzH0Bc",
        "outputId": "e9638402-736d-4f92-cec3-0e3336ee31df"
      },
      "source": [
        "cm_nn1 = confusion_matrix (testlabel,test_labels_pred_prob_nn1.round() )\n",
        "cm_nn2 = confusion_matrix (testlabel,test_labels_pred_prob_nn2.round() )\n",
        "cm_nn3 = confusion_matrix (testlabel,test_labels_pred_prob_nn3.round() )\n",
        "\n",
        "fig, axen = plt.subplots(nrows=1, ncols=3, figsize=(20,5))\n",
        "\n",
        "cm_display1 = ConfusionMatrixDisplay(cm_nn1,display_labels=[\"Pullover\",\"Coat\"]).plot(ax = axen[0],values_format=\".1f\")\n",
        "cm_display2 = ConfusionMatrixDisplay(cm_nn2,display_labels=[\"Pullover\",\"Coat\"]).plot(ax = axen[1],values_format=\".1f\")\n",
        "cm_display3 = ConfusionMatrixDisplay(cm_nn3,display_labels=[\"Pullover\",\"Coat\"]).plot(ax = axen[2],values_format=\".1f\")\n"
      ],
      "execution_count": null,
      "outputs": [
        {
          "output_type": "display_data",
          "data": {
            "image/png": "[encoded data removed]",
            "text/plain": [
              "<Figure size 1440x360 with 6 Axes>"
            ]
          },
          "metadata": {
            "tags": [],
            "needs_background": "light"
          }
        }
      ]
    },
    {
      "cell_type": "markdown",
      "metadata": {
        "id": "AvLw4tkGp8dV"
      },
      "source": [
        "# **ROC Curve**"
      ]
    },
    {
      "cell_type": "code",
      "metadata": {
        "id": "tKDINXGtkMgX"
      },
      "source": [
        "def classfi_prob(testlabel_predprob,thresh) :\n",
        "  testlabel_pred_onecol = []\n",
        "  testlabel_predprob_onecol= testlabel_predprob[:,0]\n",
        "  for n, i in enumerate(testlabel_predprob_onecol):\n",
        "   if i > thresh :\n",
        "      testlabel_pred_onecol.append(0)\n",
        "   else :\n",
        "      testlabel_pred_onecol.append(1)\n",
        "  return testlabel_pred_onecol\n"
      ],
      "execution_count": null,
      "outputs": []
    },
    {
      "cell_type": "markdown",
      "metadata": {
        "id": "7QwflZq0E1vZ"
      },
      "source": [
        "![tpr_fpr.png](data:image/png;base64,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)"
      ]
    },
    {
      "cell_type": "markdown",
      "metadata": {
        "id": "eptZou0n1toi"
      },
      "source": [
        "![precsion_recall.png](data:image/png;base64,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)"
      ]
    },
    {
      "cell_type": "markdown",
      "metadata": {
        "id": "GC9e-8XF4jn9"
      },
      "source": [
        "### FNR = FN / TP+FN"
      ]
    },
    {
      "cell_type": "markdown",
      "metadata": {
        "id": "1P3Bae8bqqCG"
      },
      "source": [
        "SVM Algorithm :"
      ]
    },
    {
      "cell_type": "code",
      "metadata": {
        "id": "GoJYMh7HAlmJ"
      },
      "source": [
        "def FPR(conf_mtrx):\n",
        "    return conf_mtrx[1][0] / (conf_mtrx[1][0] + conf_mtrx[1][1]) if (conf_mtrx[1][0] + conf_mtrx[1][1])!=0 else 0\n",
        "def TPR(conf_mtrx):\n",
        "    return conf_mtrx[0][0] / (conf_mtrx[0][0] + conf_mtrx[0][1]) if (conf_mtrx[0][0] + conf_mtrx[0][1])!=0 else 0\n",
        "def FNR(conf_mtrx):\n",
        "    return conf_mtrx[0][1] / (conf_mtrx[0][0] + conf_mtrx[0][1]) if (conf_mtrx[0][0] + conf_mtrx[0][1])!=0 else 0\n",
        "def preci(conf_mtrx):\n",
        "    return conf_mtrx[0][0] / (conf_mtrx[0][0] + conf_mtrx[1][0]) if (conf_mtrx[0][0] + conf_mtrx[1][0])!=0 else 0\n",
        "def recal(conf_mtrx):\n",
        "    return conf_mtrx[0][0] / (conf_mtrx[0][0] + conf_mtrx[0][1]) if (conf_mtrx[0][0] + conf_mtrx[0][1])!=0 else 0\n",
        "def eer(mean_tpr, mean_fpr):\n",
        "  mean_fnr = 1- mean_tpr\n",
        "  diff = np.abs(mean_fpr - mean_fnr)\n",
        "  index = np.argmin(diff)\n",
        "  eer = np.mean((mean_fpr[index], mean_fnr[index]))\n",
        "  return eer, index"
      ],
      "execution_count": null,
      "outputs": []
    },
    {
      "cell_type": "code",
      "metadata": {
        "id": "72uq37LIwDTL"
      },
      "source": [
        "test_label_pred_prob_thresh1 =classfi_prob(test_label_pred_prob,0.2)\n",
        "svm_conf_exp1_thresh1 = confusion_matrix (testlabel,test_label_pred_prob_thresh1)\n",
        "test_label_pred_prob_thresh2 =classfi_prob(test_label_pred_prob,0.4) \n",
        "svm_conf_exp1_thresh2 = confusion_matrix (testlabel,test_label_pred_prob_thresh2)\n",
        "test_label_pred_prob_thresh3 =classfi_prob(test_label_pred_prob,0.6) \n",
        "svm_conf_exp1_thresh3 = confusion_matrix (testlabel,test_label_pred_prob_thresh3)\n",
        "test_label_pred_prob_thresh4 =classfi_prob(test_label_pred_prob,0.8) \n",
        "svm_conf_exp1_thresh4 = confusion_matrix (testlabel,test_label_pred_prob_thresh4)\n",
        "test_label_pred_prob_thresh5 =classfi_prob(test_label_pred_prob,0.9)\n",
        "svm_conf_exp1_thresh5 = confusion_matrix (testlabel,test_label_pred_prob_thresh5)\n",
        "test_label_pred_prob_thresh6 =classfi_prob(test_label_pred_prob,0.95) \n",
        "svm_conf_exp1_thresh6 = confusion_matrix (testlabel,test_label_pred_prob_thresh6)"
      ],
      "execution_count": null,
      "outputs": []
    },
    {
      "cell_type": "code",
      "metadata": {
        "id": "o10uk9jp5W3L"
      },
      "source": [
        "tpr_svm1 ,tpr_svm2 ,tpr_svm3 ,fpr_svm1,fpr_svm2,fpr_svm3,fnr_svm1,fnr_svm2,fnr_svm3,preci_svm1,preci_svm2,preci_svm3,recal_svm1,recal_svm2,recal_svm3,= ([] for i in range(15))"
      ],
      "execution_count": null,
      "outputs": []
    },
    {
      "cell_type": "code",
      "metadata": {
        "id": "MIvBV-Be6nmT"
      },
      "source": [
        "tpr_svm1.extend((TPR(svm_conf_exp1_thresh1),TPR(svm_conf_exp1_thresh2),TPR(svm_conf_exp1_thresh3),TPR(svm_conf_exp1_thresh4),TPR(svm_conf_exp1_thresh5),TPR(svm_conf_exp1_thresh6)))\n",
        "fpr_svm1.extend((FPR(svm_conf_exp1_thresh1),FPR(svm_conf_exp1_thresh2),FPR(svm_conf_exp1_thresh3),FPR(svm_conf_exp1_thresh4),FPR(svm_conf_exp1_thresh5),FPR(svm_conf_exp1_thresh6)))\n",
        "fnr_svm1.extend((FNR(svm_conf_exp1_thresh1),FNR(svm_conf_exp1_thresh2),FNR(svm_conf_exp1_thresh3),FNR(svm_conf_exp1_thresh4),FNR(svm_conf_exp1_thresh5),FNR(svm_conf_exp1_thresh6)))\n",
        "preci_svm1.extend((preci(svm_conf_exp1_thresh1),preci(svm_conf_exp1_thresh2),preci(svm_conf_exp1_thresh3),preci(svm_conf_exp1_thresh4),preci(svm_conf_exp1_thresh5),preci(svm_conf_exp1_thresh6)))\n",
        "recal_svm1.extend((recal(svm_conf_exp1_thresh1),recal(svm_conf_exp1_thresh2),recal(svm_conf_exp1_thresh3),recal(svm_conf_exp1_thresh4),recal(svm_conf_exp1_thresh5),recal(svm_conf_exp1_thresh6)))\n",
        "\n"
      ],
      "execution_count": null,
      "outputs": []
    },
    {
      "cell_type": "code",
      "metadata": {
        "id": "mr6PochgKCps"
      },
      "source": [
        "test_label_pred2_prob_thresh1 =classfi_prob(test_label_pred2_prob,0.2)\n",
        "svm_conf_exp2_thresh1 = confusion_matrix (testlabel,test_label_pred2_prob_thresh1)\n",
        "test_label_pred2_prob_thresh2 =classfi_prob(test_label_pred2_prob,0.4) \n",
        "svm_conf_exp2_thresh2 = confusion_matrix (testlabel,test_label_pred2_prob_thresh2)\n",
        "test_label_pred2_prob_thresh3 =classfi_prob(test_label_pred2_prob,0.6) \n",
        "svm_conf_exp2_thresh3 = confusion_matrix (testlabel,test_label_pred2_prob_thresh3)\n",
        "test_label_pred2_prob_thresh4 =classfi_prob(test_label_pred2_prob,0.8) \n",
        "svm_conf_exp2_thresh4 = confusion_matrix (testlabel,test_label_pred2_prob_thresh4)\n",
        "test_label_pred2_prob_thresh5 =classfi_prob(test_label_pred2_prob,0.9)\n",
        "svm_conf_exp2_thresh5 = confusion_matrix (testlabel,test_label_pred2_prob_thresh5)\n",
        "test_label_pred2_prob_thresh6 =classfi_prob(test_label_pred2_prob,0.95) \n",
        "svm_conf_exp2_thresh6 = confusion_matrix (testlabel,test_label_pred2_prob_thresh6)"
      ],
      "execution_count": null,
      "outputs": []
    },
    {
      "cell_type": "code",
      "metadata": {
        "id": "nHaJdsl49xRQ"
      },
      "source": [
        "tpr_svm2.extend((TPR(svm_conf_exp2_thresh1),TPR(svm_conf_exp2_thresh2),TPR(svm_conf_exp2_thresh3),TPR(svm_conf_exp2_thresh4),TPR(svm_conf_exp2_thresh5),TPR(svm_conf_exp2_thresh6)))\n",
        "fpr_svm2.extend((FPR(svm_conf_exp2_thresh1),FPR(svm_conf_exp2_thresh2),FPR(svm_conf_exp2_thresh3),FPR(svm_conf_exp2_thresh4),FPR(svm_conf_exp2_thresh5),FPR(svm_conf_exp2_thresh6)))\n",
        "fnr_svm2.extend((FNR(svm_conf_exp2_thresh1),FNR(svm_conf_exp2_thresh2),FNR(svm_conf_exp2_thresh3),FNR(svm_conf_exp2_thresh4),FNR(svm_conf_exp2_thresh5),FNR(svm_conf_exp2_thresh6)))\n",
        "preci_svm2.extend((preci(svm_conf_exp2_thresh1),preci(svm_conf_exp2_thresh2),preci(svm_conf_exp2_thresh3),preci(svm_conf_exp2_thresh4),preci(svm_conf_exp2_thresh5),preci(svm_conf_exp2_thresh6)))\n",
        "recal_svm2.extend((recal(svm_conf_exp2_thresh1),recal(svm_conf_exp2_thresh2),recal(svm_conf_exp2_thresh3),recal(svm_conf_exp2_thresh4),recal(svm_conf_exp2_thresh5),recal(svm_conf_exp2_thresh6)))\n",
        "\n"
      ],
      "execution_count": null,
      "outputs": []
    },
    {
      "cell_type": "code",
      "metadata": {
        "id": "wKKvajmzLf1j"
      },
      "source": [
        "test_label_pred3_prob_thresh1 =classfi_prob(test_label_pred3_prob,0.2)\n",
        "svm_conf_exp3_thresh1 = confusion_matrix (testlabel,test_label_pred3_prob_thresh1)\n",
        "test_label_pred3_prob_thresh2 =classfi_prob(test_label_pred3_prob,0.4) \n",
        "svm_conf_exp3_thresh2 = confusion_matrix (testlabel,test_label_pred3_prob_thresh2)\n",
        "test_label_pred3_prob_thresh3 =classfi_prob(test_label_pred3_prob,0.6) \n",
        "svm_conf_exp3_thresh3 = confusion_matrix (testlabel,test_label_pred3_prob_thresh3)\n",
        "test_label_pred3_prob_thresh4 =classfi_prob(test_label_pred3_prob,0.8) \n",
        "svm_conf_exp3_thresh4 = confusion_matrix (testlabel,test_label_pred3_prob_thresh4)\n",
        "test_label_pred3_prob_thresh5 =classfi_prob(test_label_pred3_prob,0.9)\n",
        "svm_conf_exp3_thresh5 = confusion_matrix (testlabel,test_label_pred3_prob_thresh5)\n",
        "test_label_pred3_prob_thresh6 =classfi_prob(test_label_pred3_prob,0.95) \n",
        "svm_conf_exp3_thresh6 = confusion_matrix (testlabel,test_label_pred3_prob_thresh6)"
      ],
      "execution_count": null,
      "outputs": []
    },
    {
      "cell_type": "code",
      "metadata": {
        "id": "OKO1uMf4-cvu"
      },
      "source": [
        "tpr_svm3.extend((TPR(svm_conf_exp3_thresh1),TPR(svm_conf_exp3_thresh2),TPR(svm_conf_exp3_thresh3),TPR(svm_conf_exp3_thresh4),TPR(svm_conf_exp3_thresh5),TPR(svm_conf_exp3_thresh6)))\n",
        "fpr_svm3.extend((FPR(svm_conf_exp3_thresh1),FPR(svm_conf_exp3_thresh2),FPR(svm_conf_exp3_thresh3),FPR(svm_conf_exp3_thresh4),FPR(svm_conf_exp3_thresh5),FPR(svm_conf_exp3_thresh6)))\n",
        "fnr_svm3.extend((FNR(svm_conf_exp3_thresh1),FNR(svm_conf_exp3_thresh2),FNR(svm_conf_exp3_thresh3),FNR(svm_conf_exp3_thresh4),FNR(svm_conf_exp3_thresh5),FNR(svm_conf_exp3_thresh6)))\n",
        "preci_svm3.extend((preci(svm_conf_exp3_thresh1),preci(svm_conf_exp3_thresh2),preci(svm_conf_exp3_thresh3),preci(svm_conf_exp3_thresh4),preci(svm_conf_exp3_thresh5),preci(svm_conf_exp3_thresh6)))\n",
        "recal_svm3.extend((recal(svm_conf_exp3_thresh1),recal(svm_conf_exp3_thresh2),recal(svm_conf_exp3_thresh3),recal(svm_conf_exp3_thresh4),recal(svm_conf_exp3_thresh5),recal(svm_conf_exp3_thresh6)))\n",
        "\n"
      ],
      "execution_count": null,
      "outputs": []
    },
    {
      "cell_type": "code",
      "metadata": {
        "id": "XoSYjtQlOEBO"
      },
      "source": [
        "tpr_svm_all ,fpr_svm_all ,fnr_svm_all,preci_svm_all,recal_svm_all = ([] for i in range(5))"
      ],
      "execution_count": null,
      "outputs": []
    },
    {
      "cell_type": "code",
      "metadata": {
        "id": "Ax10iIuTOM8S"
      },
      "source": [
        "tpr_svm_all.extend((tpr_svm1,tpr_svm2,tpr_svm3))\n",
        "fpr_svm_all.extend((fpr_svm1,fpr_svm2,fpr_svm3))\n",
        "fnr_svm_all.extend((fnr_svm1,fnr_svm2,fnr_svm3))\n",
        "preci_svm_all.extend((preci_svm1,preci_svm2,preci_svm3))\n",
        "recal_svm_all.extend((recal_svm1,recal_svm2,recal_svm3))\n"
      ],
      "execution_count": null,
      "outputs": []
    },
    {
      "cell_type": "code",
      "metadata": {
        "id": "xdEtnnu8AKmu"
      },
      "source": [
        "mean_tpr_svm = np.mean(tpr_svm_all, axis=0)\n",
        "mean_fpr_svm = np.mean(fpr_svm_all,axis=0)\n",
        "mean_prec_svm = np.mean(preci_svm_all, axis=0)\n",
        "mean_rec_svm = np.mean(recal_svm_all, axis=0)\n",
        "std_tpr_svm = np.std(tpr_svm_all, axis=0)\n",
        "mean_auc_svm = auc(mean_fpr_svm, mean_tpr_svm)"
      ],
      "execution_count": null,
      "outputs": []
    },
    {
      "cell_type": "code",
      "metadata": {
        "colab": {
          "base_uri": "https://localhost:8080/",
          "height": 513
        },
        "id": "r3Z7-5Z1PTYS",
        "outputId": "46afa990-aeea-4a4d-828a-a32b4c73a565"
      },
      "source": [
        "plt.figure(figsize=(14,8))\n",
        "plt.errorbar(mean_fpr_svm, mean_tpr_svm,yerr = std_tpr_svm, fmt='-o', color='b', ecolor='black', capsize=10, label=r' Mean ROC (AUC = %0.2f )' % (mean_auc_svm))\n",
        "# Title\n",
        "plt.title('ROC Plot for SVM')\n",
        "# Axis labels\n",
        "plt.xlabel('False Positive Rate')\n",
        "plt.ylabel('True Positive Rate')\n",
        "# Show legend\n",
        "plt.legend() # \n",
        "plt.grid(axis='y')\n",
        "# Show plot\n",
        "plt.show()"
      ],
      "execution_count": null,
      "outputs": [
        {
          "output_type": "display_data",
          "data": {
            "image/png": "[encoded data removed]",
            "text/plain": [
              "<Figure size 1008x576 with 1 Axes>"
            ]
          },
          "metadata": {
            "tags": [],
            "needs_background": "light"
          }
        }
      ]
    },
    {
      "cell_type": "code",
      "metadata": {
        "id": "6MwmVVSED0bY"
      },
      "source": [
        "eer_svm, index_eer_svm = eer(mean_tpr_svm, mean_fpr_svm)"
      ],
      "execution_count": null,
      "outputs": []
    },
    {
      "cell_type": "code",
      "metadata": {
        "colab": {
          "base_uri": "https://localhost:8080/"
        },
        "id": "gJ2PZBixEKug",
        "outputId": "41370860-cfc5-42f3-f790-db635c48cdff"
      },
      "source": [
        "thresholds = [0.2,0.4,0.6,0.8,0.9,0.95]\n",
        "print(\"Equal Error Rate in SVM with threshold : \")\n",
        "print(\"EER\",'%.4f'%eer_svm)\n",
        "print(\"Threshold : \", thresholds[index_eer_svm])"
      ],
      "execution_count": null,
      "outputs": [
        {
          "output_type": "stream",
          "text": [
            "Equal Error Rate in SVM with threshold : \n",
            "EER 0.2403\n",
            "Threshold :  0.9\n"
          ],
          "name": "stdout"
        }
      ]
    },
    {
      "cell_type": "markdown",
      "metadata": {
        "id": "MKTAmOyTWDjt"
      },
      "source": [
        "5 layer Neural Network \n",
        "\n"
      ]
    },
    {
      "cell_type": "code",
      "metadata": {
        "id": "L7WsXz0EaH8l"
      },
      "source": [
        "def classfi_prob_nn(testlabel_predprob,thresh) :\n",
        "  testlabel_pred_onecol = []\n",
        "  testlabel_predprob_onecol= testlabel_predprob\n",
        "  for n, i in enumerate(testlabel_predprob_onecol):\n",
        "   if i > thresh :\n",
        "      testlabel_pred_onecol.append(0)\n",
        "   else :\n",
        "      testlabel_pred_onecol.append(1)\n",
        "  return testlabel_pred_onecol"
      ],
      "execution_count": null,
      "outputs": []
    },
    {
      "cell_type": "code",
      "metadata": {
        "id": "arc2UFwgVsyf"
      },
      "source": [
        " test_labels_pred_prob_nn1_thresh1 =classfi_prob_nn( test_labels_pred_prob_nn1,0.2)\n",
        "nn1_conf_exp1_thresh1 = confusion_matrix (testlabel, test_labels_pred_prob_nn1_thresh1)\n",
        " test_labels_pred_prob_nn1_thresh2 =classfi_prob_nn( test_labels_pred_prob_nn1,0.4) \n",
        "nn1_conf_exp1_thresh2 = confusion_matrix (testlabel, test_labels_pred_prob_nn1_thresh2)\n",
        " test_labels_pred_prob_nn1_thresh3 =classfi_prob_nn( test_labels_pred_prob_nn1,0.6) \n",
        "nn1_conf_exp1_thresh3 = confusion_matrix (testlabel, test_labels_pred_prob_nn1_thresh3)\n",
        " test_labels_pred_prob_nn1_thresh4 =classfi_prob_nn( test_labels_pred_prob_nn1,0.8) \n",
        "nn1_conf_exp1_thresh4 = confusion_matrix (testlabel, test_labels_pred_prob_nn1_thresh4)\n",
        " test_labels_pred_prob_nn1_thresh5 =classfi_prob_nn( test_labels_pred_prob_nn1,0.9)\n",
        "nn1_conf_exp1_thresh5 = confusion_matrix (testlabel, test_labels_pred_prob_nn1_thresh5)\n",
        " test_labels_pred_prob_nn1_thresh6 =classfi_prob_nn( test_labels_pred_prob_nn1,0.95) \n",
        "nn1_conf_exp1_thresh6 = confusion_matrix (testlabel, test_labels_pred_prob_nn1_thresh6)\n"
      ],
      "execution_count": null,
      "outputs": []
    },
    {
      "cell_type": "code",
      "metadata": {
        "colab": {
          "base_uri": "https://localhost:8080/"
        },
        "id": "POXm7pWEbMkx",
        "outputId": "776920d8-ea2e-44d2-cda8-c18e40c4a5ec"
      },
      "source": [
        "nn1_conf_exp1_thresh1,nn1_conf_exp1_thresh2,nn1_conf_exp1_thresh3,nn1_conf_exp1_thresh4,nn1_conf_exp1_thresh5,nn1_conf_exp1_thresh6"
      ],
      "execution_count": null,
      "outputs": [
        {
          "output_type": "execute_result",
          "data": {
            "text/plain": [
              "(array([[  9, 991],\n",
              "        [454, 546]]), array([[  9, 991],\n",
              "        [447, 553]]), array([[  9, 991],\n",
              "        [438, 562]]), array([[  8, 992],\n",
              "        [428, 572]]), array([[  8, 992],\n",
              "        [422, 578]]), array([[  8, 992],\n",
              "        [418, 582]]))"
            ]
          },
          "metadata": {
            "tags": []
          },
          "execution_count": 60
        }
      ]
    },
    {
      "cell_type": "code",
      "metadata": {
        "id": "KJBHhZA4YeN-"
      },
      "source": [
        "tpr_nn1 ,tpr_nn2 ,tpr_nn3 ,fpr_nn1,fpr_nn2,fpr_nn3,fnr_nn1,fnr_nn2,fnr_nn3,preci_nn1,preci_nn2,preci_nn3,recal_nn1,recal_nn2,recal_nn3,= ([] for i in range(15))"
      ],
      "execution_count": null,
      "outputs": []
    },
    {
      "cell_type": "code",
      "metadata": {
        "id": "_zSH2DScYpUu"
      },
      "source": [
        "tpr_nn1.extend((TPR(nn1_conf_exp1_thresh1),TPR(nn1_conf_exp1_thresh2),TPR(nn1_conf_exp1_thresh3),TPR(nn1_conf_exp1_thresh4),TPR(nn1_conf_exp1_thresh5),TPR(nn1_conf_exp1_thresh6)))"
      ],
      "execution_count": null,
      "outputs": []
    },
    {
      "cell_type": "code",
      "metadata": {
        "id": "Yt6sSlq7Zpgr"
      },
      "source": [
        "fpr_nn1.extend((FPR(nn1_conf_exp1_thresh1),FPR(nn1_conf_exp1_thresh2),FPR(nn1_conf_exp1_thresh3),FPR(nn1_conf_exp1_thresh4),FPR(nn1_conf_exp1_thresh5),FPR(nn1_conf_exp1_thresh6)))"
      ],
      "execution_count": null,
      "outputs": []
    },
    {
      "cell_type": "code",
      "metadata": {
        "id": "p3bkEfT5Brdj"
      },
      "source": [
        "fnr_nn1.extend((FNR(nn1_conf_exp1_thresh1),FNR(nn1_conf_exp1_thresh2),FNR(nn1_conf_exp1_thresh3),FNR(nn1_conf_exp1_thresh4),FNR(nn1_conf_exp1_thresh5),FNR(nn1_conf_exp1_thresh6)))"
      ],
      "execution_count": null,
      "outputs": []
    },
    {
      "cell_type": "code",
      "metadata": {
        "id": "30rPyDOVCC68"
      },
      "source": [
        "preci_nn1.extend((preci(nn1_conf_exp1_thresh1),preci(nn1_conf_exp1_thresh2),preci(nn1_conf_exp1_thresh3),preci(nn1_conf_exp1_thresh4),preci(nn1_conf_exp1_thresh5),preci(nn1_conf_exp1_thresh6)))\n"
      ],
      "execution_count": null,
      "outputs": []
    },
    {
      "cell_type": "code",
      "metadata": {
        "id": "f5YomB8eCZXy"
      },
      "source": [
        "recal_nn1.extend((recal(nn1_conf_exp1_thresh1),recal(nn1_conf_exp1_thresh2),recal(nn1_conf_exp1_thresh3),recal(nn1_conf_exp1_thresh4),recal(nn1_conf_exp1_thresh5),recal(nn1_conf_exp1_thresh6)))"
      ],
      "execution_count": null,
      "outputs": []
    },
    {
      "cell_type": "code",
      "metadata": {
        "id": "q9nLLIc0ggFU"
      },
      "source": [
        " test_labels_pred_prob_nn2_thresh1 =classfi_prob_nn( test_labels_pred_prob_nn2,0.02)\n",
        "nn2_conf_exp2_thresh1 = confusion_matrix (testlabel, test_labels_pred_prob_nn2_thresh1)\n",
        " test_labels_pred_prob_nn2_thresh2 =classfi_prob_nn( test_labels_pred_prob_nn2,0.04) \n",
        "nn2_conf_exp2_thresh2 = confusion_matrix (testlabel, test_labels_pred_prob_nn2_thresh2)\n",
        " test_labels_pred_prob_nn2_thresh3 =classfi_prob_nn( test_labels_pred_prob_nn2,0.06) \n",
        "nn2_conf_exp2_thresh3 = confusion_matrix (testlabel, test_labels_pred_prob_nn2_thresh3)\n",
        " test_labels_pred_prob_nn2_thresh4 =classfi_prob_nn( test_labels_pred_prob_nn2,0.08) \n",
        "nn2_conf_exp2_thresh4 = confusion_matrix (testlabel, test_labels_pred_prob_nn2_thresh4)\n",
        " test_labels_pred_prob_nn2_thresh5 =classfi_prob_nn( test_labels_pred_prob_nn2,0.09)\n",
        "nn2_conf_exp2_thresh5 = confusion_matrix (testlabel, test_labels_pred_prob_nn2_thresh5)\n",
        " test_labels_pred_prob_nn2_thresh6 =classfi_prob_nn( test_labels_pred_prob_nn2,0.095) \n",
        "nn2_conf_exp2_thresh6 = confusion_matrix (testlabel, test_labels_pred_prob_nn2_thresh6)"
      ],
      "execution_count": null,
      "outputs": []
    },
    {
      "cell_type": "code",
      "metadata": {
        "id": "16jKqvD4CATz"
      },
      "source": [
        "tpr_nn2.extend((TPR(nn2_conf_exp2_thresh1),TPR(nn2_conf_exp2_thresh2),TPR(nn2_conf_exp2_thresh3),TPR(nn2_conf_exp2_thresh4),TPR(nn2_conf_exp2_thresh5),TPR(nn2_conf_exp2_thresh6)))\n",
        "\n",
        "fpr_nn2.extend((FPR(nn2_conf_exp2_thresh1),FPR(nn2_conf_exp2_thresh2),FPR(nn2_conf_exp2_thresh3),FPR(nn2_conf_exp2_thresh4),FPR(nn2_conf_exp2_thresh5),FPR(nn2_conf_exp2_thresh6)))\n",
        "\n",
        "fnr_nn2.extend((FNR(nn2_conf_exp2_thresh1),FNR(nn2_conf_exp2_thresh2),FNR(nn2_conf_exp2_thresh3),FNR(nn2_conf_exp2_thresh4),FNR(nn2_conf_exp2_thresh5),FNR(nn2_conf_exp2_thresh6)))\n",
        "\n",
        "preci_nn2.extend((preci(nn2_conf_exp2_thresh1),preci(nn2_conf_exp2_thresh2),preci(nn2_conf_exp2_thresh3),preci(nn2_conf_exp2_thresh4),preci(nn2_conf_exp2_thresh5),preci(nn2_conf_exp2_thresh6)))\n",
        "\n",
        "\n",
        "recal_nn2.extend((recal(nn2_conf_exp2_thresh1),recal(nn2_conf_exp2_thresh2),recal(nn2_conf_exp2_thresh3),recal(nn2_conf_exp2_thresh4),recal(nn2_conf_exp2_thresh5),recal(nn2_conf_exp2_thresh6)))"
      ],
      "execution_count": null,
      "outputs": []
    },
    {
      "cell_type": "code",
      "metadata": {
        "id": "2uSsOV2Xh_oE"
      },
      "source": [
        " test_labels_pred_prob_nn3_thresh1 =classfi_prob_nn( test_labels_pred_prob_nn3,0.02)\n",
        "nn3_conf_exp3_thresh1 = confusion_matrix (testlabel, test_labels_pred_prob_nn3_thresh1)\n",
        " test_labels_pred_prob_nn3_thresh2 =classfi_prob_nn( test_labels_pred_prob_nn3,0.04) \n",
        "nn3_conf_exp3_thresh2 = confusion_matrix (testlabel, test_labels_pred_prob_nn3_thresh2)\n",
        " test_labels_pred_prob_nn3_thresh3 =classfi_prob_nn( test_labels_pred_prob_nn3,0.06) \n",
        "nn3_conf_exp3_thresh3 = confusion_matrix (testlabel, test_labels_pred_prob_nn3_thresh3)\n",
        " test_labels_pred_prob_nn3_thresh4 =classfi_prob_nn( test_labels_pred_prob_nn3,0.08) \n",
        "nn3_conf_exp3_thresh4 = confusion_matrix (testlabel, test_labels_pred_prob_nn3_thresh4)\n",
        " test_labels_pred_prob_nn3_thresh5 =classfi_prob_nn( test_labels_pred_prob_nn3,0.09)\n",
        "nn3_conf_exp3_thresh5 = confusion_matrix (testlabel, test_labels_pred_prob_nn3_thresh5)\n",
        " test_labels_pred_prob_nn3_thresh6 =classfi_prob_nn( test_labels_pred_prob_nn3,0.095) \n",
        "nn3_conf_exp3_thresh6 = confusion_matrix (testlabel, test_labels_pred_prob_nn3_thresh6)"
      ],
      "execution_count": null,
      "outputs": []
    },
    {
      "cell_type": "code",
      "metadata": {
        "id": "OsXF0HUKiY1C"
      },
      "source": [
        "tpr_nn3.extend((TPR(nn3_conf_exp3_thresh1),TPR(nn3_conf_exp3_thresh2),TPR(nn3_conf_exp3_thresh3),TPR(nn3_conf_exp3_thresh4),TPR(nn3_conf_exp3_thresh5),TPR(nn3_conf_exp3_thresh6)))\n",
        "\n",
        "fpr_nn3.extend((FPR(nn3_conf_exp3_thresh1),FPR(nn3_conf_exp3_thresh2),FPR(nn3_conf_exp3_thresh3),FPR(nn3_conf_exp3_thresh4),FPR(nn3_conf_exp3_thresh5),FPR(nn3_conf_exp3_thresh6)))\n",
        "\n",
        "fnr_nn3.extend((FNR(nn3_conf_exp3_thresh1),FNR(nn3_conf_exp3_thresh2),FNR(nn3_conf_exp3_thresh3),FNR(nn3_conf_exp3_thresh4),FNR(nn3_conf_exp3_thresh5),FNR(nn3_conf_exp3_thresh6)))\n",
        "\n",
        "preci_nn3.extend((preci(nn3_conf_exp3_thresh1),preci(nn3_conf_exp3_thresh2),preci(nn3_conf_exp3_thresh3),preci(nn3_conf_exp3_thresh4),preci(nn3_conf_exp3_thresh5),preci(nn3_conf_exp3_thresh6)))\n",
        "\n",
        "\n",
        "recal_nn3.extend((recal(nn3_conf_exp3_thresh1),recal(nn3_conf_exp3_thresh2),recal(nn3_conf_exp3_thresh3),recal(nn3_conf_exp3_thresh4),recal(nn3_conf_exp3_thresh5),recal(nn3_conf_exp3_thresh6)))"
      ],
      "execution_count": null,
      "outputs": []
    },
    {
      "cell_type": "code",
      "metadata": {
        "id": "aGNlj7sPi1z1"
      },
      "source": [
        "tpr_nn_all ,fpr_nn_all ,fnr_nn_all,preci_nn_all,recal_nn_all = ([] for i in range(5))"
      ],
      "execution_count": null,
      "outputs": []
    },
    {
      "cell_type": "code",
      "metadata": {
        "id": "JgxO08y9i1z2"
      },
      "source": [
        "tpr_nn_all.extend((tpr_nn1,tpr_nn2,tpr_nn3))\n",
        "fpr_nn_all.extend((fpr_nn1,fpr_nn2,fpr_nn3))\n",
        "fnr_nn_all.extend((fnr_nn1,fnr_nn2,fnr_nn3))\n",
        "preci_nn_all.extend((preci_nn1,preci_nn2,preci_nn3))\n",
        "recal_nn_all.extend((recal_nn1,recal_nn2,recal_nn3))"
      ],
      "execution_count": null,
      "outputs": []
    },
    {
      "cell_type": "code",
      "metadata": {
        "id": "unE16oJhi1z2"
      },
      "source": [
        "mean_tpr_nn = np.mean(tpr_nn_all, axis=0)\n",
        "mean_fpr_nn = np.mean(fpr_nn_all,axis=0)\n",
        "mean_prec_nn = np.mean(preci_nn_all, axis=0)\n",
        "mean_rec_nn = np.mean(recal_nn_all, axis=0)\n",
        "std_tpr_nn = np.std(tpr_nn_all, axis=0)\n",
        "mean_auc_nn = auc(mean_fpr_nn, mean_tpr_nn)"
      ],
      "execution_count": null,
      "outputs": []
    },
    {
      "cell_type": "code",
      "metadata": {
        "colab": {
          "base_uri": "https://localhost:8080/",
          "height": 513
        },
        "id": "WnsApmf6i1z2",
        "outputId": "b3b28ad3-8a7f-4a0e-9fc6-137b44af9907"
      },
      "source": [
        "plt.figure(figsize=(14,8))\n",
        "plt.errorbar(mean_fpr_nn, mean_tpr_nn,yerr = std_tpr_nn, fmt='-o', color='b', ecolor='black', capsize=10, label=r' Mean ROC (AUC = %0.6f )' % (mean_auc_nn))\n",
        "# Title\n",
        "plt.title('ROC Plot for NN')\n",
        "# Axis labels\n",
        "plt.xlabel('False Positive Rate')\n",
        "plt.ylabel('True Positive Rate')\n",
        "# Show legend\n",
        "plt.legend() # \n",
        "plt.grid(axis='y')\n",
        "# Show plot\n",
        "plt.show()"
      ],
      "execution_count": null,
      "outputs": [
        {
          "output_type": "display_data",
          "data": {
            "image/png": "[encoded data removed]",
            "text/plain": [
              "<Figure size 1008x576 with 1 Axes>"
            ]
          },
          "metadata": {
            "tags": [],
            "needs_background": "light"
          }
        }
      ]
    },
    {
      "cell_type": "code",
      "metadata": {
        "id": "wwUkzDf8JFg2"
      },
      "source": [
        "eer_nn, index_eer_nn = eer(mean_tpr_nn, mean_fpr_nn)"
      ],
      "execution_count": null,
      "outputs": []
    },
    {
      "cell_type": "code",
      "metadata": {
        "colab": {
          "base_uri": "https://localhost:8080/"
        },
        "id": "mgUrxJayJFg4",
        "outputId": "0a495995-56de-4ea1-97af-208caa0eac6c"
      },
      "source": [
        "thresholds = [0.2,0.4,0.6,0.8,0.9,0.95]\n",
        "print(\"Equal Error Rate in 5-layer Neural Network with threshold : \")\n",
        "print(\"EER\",'%.4f'%eer_nn)\n",
        "print(\"Threshold : \", thresholds[index_eer_nn])"
      ],
      "execution_count": null,
      "outputs": [
        {
          "output_type": "stream",
          "text": [
            "Equal Error Rate in 5-layer Neural Network with threshold : \n",
            "EER 0.7270\n",
            "Threshold :  0.2\n"
          ],
          "name": "stdout"
        }
      ]
    },
    {
      "cell_type": "markdown",
      "metadata": {
        "id": "iyGLExw7JoXf"
      },
      "source": [
        "# Precision-Recall curve"
      ]
    },
    {
      "cell_type": "markdown",
      "metadata": {
        "id": "dWiOQ43fJ0B7"
      },
      "source": [
        "SVM"
      ]
    },
    {
      "cell_type": "code",
      "metadata": {
        "colab": {
          "base_uri": "https://localhost:8080/",
          "height": 458
        },
        "id": "HDMEWWXhJykO",
        "outputId": "7cffc028-d85a-46ec-d35b-3c0ff365bd87"
      },
      "source": [
        "plt.figure(figsize=(7,7))\n",
        "plt.plot(mean_rec_svm, mean_prec_svm, marker='.', label='SVM')\n",
        "# Title\n",
        "plt.title('Precision-Recall Curve')\n",
        "# Axis labels\n",
        "plt.xlabel('Recall')\n",
        "plt.ylabel('Precision')\n",
        "# Show legend\n",
        "plt.legend() #\n",
        "plt.grid() \n",
        "# Show plot\n",
        "plt.show()"
      ],
      "execution_count": null,
      "outputs": [
        {
          "output_type": "display_data",
          "data": {
            "image/png": "[encoded data removed]",
            "text/plain": [
              "<Figure size 504x504 with 1 Axes>"
            ]
          },
          "metadata": {
            "tags": [],
            "needs_background": "light"
          }
        }
      ]
    },
    {
      "cell_type": "markdown",
      "metadata": {
        "id": "0BfpDgcGKZd0"
      },
      "source": [
        "5-layer Neural Network"
      ]
    },
    {
      "cell_type": "code",
      "metadata": {
        "colab": {
          "base_uri": "https://localhost:8080/",
          "height": 458
        },
        "id": "d1eK-2KsJkwi",
        "outputId": "7b9c39bd-37b4-410f-a321-e1c9bf384882"
      },
      "source": [
        "plt.figure(figsize=(7,7))\n",
        "plt.plot(mean_rec_nn, mean_prec_nn, marker='.', label='5-layerNN')\n",
        "# Title\n",
        "plt.title('Precision-Recall curve')\n",
        "# Axis labels\n",
        "plt.xlabel('Recall')\n",
        "plt.ylabel('Precision')\n",
        "# Show legend\n",
        "plt.legend() #\n",
        "plt.grid() \n",
        "# Show plot\n",
        "plt.show()"
      ],
      "execution_count": null,
      "outputs": [
        {
          "output_type": "display_data",
          "data": {
            "image/png": "[encoded data removed]",
            "text/plain": [
              "<Figure size 504x504 with 1 Axes>"
            ]
          },
          "metadata": {
            "tags": [],
            "needs_background": "light"
          }
        }
      ]
    }
  ]
}